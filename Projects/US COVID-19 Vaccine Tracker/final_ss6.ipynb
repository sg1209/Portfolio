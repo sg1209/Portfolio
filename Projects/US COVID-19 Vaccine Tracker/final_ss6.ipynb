{
 "cells": [
  {
   "cell_type": "markdown",
   "metadata": {},
   "source": [
    "**Fall 2021 STAT 430, Final Project Report**\n",
    "\n",
    "Seunggyun, Shin(ss6)\n",
    "\n",
    "*Dec, 14, 2021*\n"
   ]
  },
  {
   "cell_type": "markdown",
   "metadata": {},
   "source": [
    "**Section 1**: Data description\n",
    "- For the final project, we have been provided three datasets which contain overall US COVID-19 Vaccination status such as the proportion of people who got fully vaccinated or got at least 1 dose of vaccine, number of people who got shots from certain companies.\n",
    "    1. COVID-19 Vaccinations in the United States,Jurisdiction\n",
    "        - 23,640 Rows x 80 Columns\n",
    "        - The data set includes the information at national and jurisdiction level.\n",
    "        - The data set includes plenty of informations by states such as the number and proportion of people who got fully vaccinated, got a least 1 dose shot and even additional shot. Also, the set includes separated data depeding on people's age and kind of shot they got.\n",
    "    2. COVID-19 Vaccinations in the United States,County\n",
    "        - 1,201,055 Rows × 32 Columns\n",
    "        - Date set includes percentages of people who got fully vaccinated or got at least 1 dose shot by State and County. Also, the set includes separated data depending on people's age and kind of shot they got.\n",
    "    3. United States COVID-19 County Level of Community Transmission as Originally Posted\n",
    "        - 383,181 Rows × 7 Columns\n",
    "        - Unlike other two, the data set focuses on the number of COVID-19 confirmed cases and positive rate of testings in last 7 days by each county in each state.\n"
   ]
  },
  {
   "cell_type": "markdown",
   "metadata": {},
   "source": [
    "**Section 2**: Question of interest (Option 3)\n",
    "- The web app is called \"US COVID-19 DATA TRACKER\" is supposed to contain four different visualizations.\n",
    "    1. U.S. State Map Colored by Vaccination %\n",
    "        - By choosing \"Fully Vaccinated\" or \"At least 1 does\" and certain date, we can observe the vaccinated rate of U.S. states at once as they are colored different depending on their rates.\n",
    "        - It is possible to witness how the vaccinated rate changed throughout COVID-19 era in the United States.\n",
    "    2. Dataframe with percentages of fully vaccinated and at least 1 dose\n",
    "        - By selecting certain Counties in ceratin State and specific date, we can observe and compare the data that includes vaccinated rate of selected counties.\n",
    "        - Also, it is possible to sort them in customized order.\n",
    "    3. Time series graph (Daily % Positivity)\n",
    "        - The time series graph will show how the daily positivity percentage changed in selected area throughout the selected period.\n",
    "        - The data is recorded by 7 days.\n",
    "    4. Time series graph (Daily new cases)\n",
    "        - The time series graph will show how the number of daily new cases changed in selected area thoughtout the selected period.\n",
    "        - The data is recorded by 7 days too.\n",
    "\n",
    "\n",
    "- In conclusion, through the app, we can easily observe and analyze how the situation of COVID-19 has been in the areas of United States throughout this terrible pandemic circumstance."
   ]
  },
  {
   "cell_type": "markdown",
   "metadata": {},
   "source": [
    "**Section 3**: Testing of the web app\n",
    "   - First of all, I've failed to finish the web app. As the data frame object in dast_table was not callable, I wasted too much time trying to fix it and still could not fix it so that I could not finish the project on time. \n",
    "   - With the app I built, I've checked vaccinated rate of States on Aug, 19, 2021, which is near the date Fall 2021 semester has begun and compared with that of recent days."
   ]
  },
  {
   "cell_type": "markdown",
   "metadata": {},
   "source": [
    "![](app1.jpg)"
   ]
  },
  {
   "cell_type": "markdown",
   "metadata": {},
   "source": [
    "![](app2.jpg)"
   ]
  },
  {
   "cell_type": "markdown",
   "metadata": {},
   "source": [
    "**Section 4**: Conclusion & Discussion\n",
    "    - It was great opportunity to learn how to use web dash, text editor and combined with python. Even though I could not finish establishing the web application, I could still experience the process of building web application using data sets.\n",
    "    - Visulization of the data came much more important to me. It makes much easier to understand and analyze the data.\n",
    "    - One thing I felt too challenging was that there was lack of course content related to web dash application. Just two lecture video was not that helpful to finish such a challenging project.\n",
    "    - If someone is to continue working on my project, one might tell me to practice more and finish the project :(. Also, I might need to work on designing the web better."
   ]
  }
 ],
 "metadata": {
  "kernelspec": {
   "display_name": "Python 3",
   "language": "python",
   "name": "python3"
  },
  "language_info": {
   "codemirror_mode": {
    "name": "ipython",
    "version": 3
   },
   "file_extension": ".py",
   "mimetype": "text/x-python",
   "name": "python",
   "nbconvert_exporter": "python",
   "pygments_lexer": "ipython3",
   "version": "3.8.3"
  }
 },
 "nbformat": 4,
 "nbformat_minor": 4
}
