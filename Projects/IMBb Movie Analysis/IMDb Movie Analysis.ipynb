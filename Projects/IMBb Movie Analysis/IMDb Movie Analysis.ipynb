{
 "cells": [
  {
   "cell_type": "code",
   "execution_count": 1,
   "metadata": {
    "cell_id": "467e74de7a3a48bc802bafcc19e424ce",
    "deepnote_cell_type": "code",
    "deepnote_to_be_reexecuted": false,
    "execution_millis": 1514,
    "execution_start": 1682732189750,
    "source_hash": "ed7b7264"
   },
   "outputs": [],
   "source": [
    "import pandas as pd\n",
    "import numpy as np\n",
    "import seaborn as sns\n",
    "import matplotlib.pyplot as plt\n",
    "import statsmodels.api as sm\n",
    "import statsmodels.formula.api as smf\n",
    "import scipy.stats as stats\n",
    "from scipy.stats import t\n",
    "from sklearn.model_selection import train_test_split"
   ]
  },
  {
   "cell_type": "code",
   "execution_count": 54,
   "metadata": {
    "cell_id": "4e3f74c6336e489fb084e783e5bc2223",
    "deepnote_cell_type": "code",
    "deepnote_to_be_reexecuted": false,
    "execution_millis": 324,
    "execution_start": 1682732191209,
    "source_hash": "3b1ec01f"
   },
   "outputs": [
    {
     "data": {
      "text/html": [
       "<div>\n",
       "<style scoped>\n",
       "    .dataframe tbody tr th:only-of-type {\n",
       "        vertical-align: middle;\n",
       "    }\n",
       "\n",
       "    .dataframe tbody tr th {\n",
       "        vertical-align: top;\n",
       "    }\n",
       "\n",
       "    .dataframe thead th {\n",
       "        text-align: right;\n",
       "    }\n",
       "</style>\n",
       "<table border=\"1\" class=\"dataframe\">\n",
       "  <thead>\n",
       "    <tr style=\"text-align: right;\">\n",
       "      <th></th>\n",
       "      <th>rank</th>\n",
       "      <th>title</th>\n",
       "      <th>year</th>\n",
       "      <th>imbd_votes</th>\n",
       "      <th>imbd_rating</th>\n",
       "      <th>certificate</th>\n",
       "      <th>duration</th>\n",
       "      <th>genre</th>\n",
       "      <th>cast_id</th>\n",
       "      <th>review_id</th>\n",
       "      <th>self</th>\n",
       "    </tr>\n",
       "  </thead>\n",
       "  <tbody>\n",
       "    <tr>\n",
       "      <th>0</th>\n",
       "      <td>1</td>\n",
       "      <td>The Shawshank Redemption</td>\n",
       "      <td>1994</td>\n",
       "      <td>2,711,075</td>\n",
       "      <td>9.3</td>\n",
       "      <td>R</td>\n",
       "      <td>2h 22m</td>\n",
       "      <td>Drama</td>\n",
       "      <td>nm0000209,nm0000151,nm0348409,nm0006669,nm0000...</td>\n",
       "      <td>rw2284594,rw6606154,rw1221355,rw1822343,rw1288...</td>\n",
       "      <td>0</td>\n",
       "    </tr>\n",
       "    <tr>\n",
       "      <th>1</th>\n",
       "      <td>2</td>\n",
       "      <td>The Godfather</td>\n",
       "      <td>1972</td>\n",
       "      <td>1,882,829</td>\n",
       "      <td>9.2</td>\n",
       "      <td>R</td>\n",
       "      <td>2h 55m</td>\n",
       "      <td>Crime,Drama</td>\n",
       "      <td>nm0000008,nm0000199,nm0001001,nm0144710,nm0000...</td>\n",
       "      <td>rw3038370,rw4756923,rw4059579,rw6568526,rw1897...</td>\n",
       "      <td>0</td>\n",
       "    </tr>\n",
       "    <tr>\n",
       "      <th>2</th>\n",
       "      <td>3</td>\n",
       "      <td>The Dark Knight</td>\n",
       "      <td>2008</td>\n",
       "      <td>2,684,051</td>\n",
       "      <td>9.0</td>\n",
       "      <td>PG-13</td>\n",
       "      <td>2h 32m</td>\n",
       "      <td>Action,Crime,Drama</td>\n",
       "      <td>nm0000288,nm0005132,nm0001173,nm0000323,nm0350...</td>\n",
       "      <td>rw5478826,rw1914442,rw6606026,rw1917099,rw5170...</td>\n",
       "      <td>0</td>\n",
       "    </tr>\n",
       "    <tr>\n",
       "      <th>3</th>\n",
       "      <td>4</td>\n",
       "      <td>The Godfather Part II</td>\n",
       "      <td>1974</td>\n",
       "      <td>1,285,350</td>\n",
       "      <td>9.0</td>\n",
       "      <td>R</td>\n",
       "      <td>3h 22m</td>\n",
       "      <td>Crime,Drama</td>\n",
       "      <td>nm0000199,nm0000380,nm0000473,nm0000134,nm0001...</td>\n",
       "      <td>rw0135607,rw0135487,rw5049900,rw0135526,rw0135...</td>\n",
       "      <td>0</td>\n",
       "    </tr>\n",
       "    <tr>\n",
       "      <th>4</th>\n",
       "      <td>5</td>\n",
       "      <td>12 Angry Men</td>\n",
       "      <td>1957</td>\n",
       "      <td>800,954</td>\n",
       "      <td>9.0</td>\n",
       "      <td>Approved</td>\n",
       "      <td>1h 36m</td>\n",
       "      <td>Crime,Drama</td>\n",
       "      <td>nm0000842,nm0275835,nm0002011,nm0550855,nm0001...</td>\n",
       "      <td>rw0060044,rw0060025,rw0060034,rw2262425,rw5448...</td>\n",
       "      <td>0</td>\n",
       "    </tr>\n",
       "    <tr>\n",
       "      <th>...</th>\n",
       "      <td>...</td>\n",
       "      <td>...</td>\n",
       "      <td>...</td>\n",
       "      <td>...</td>\n",
       "      <td>...</td>\n",
       "      <td>...</td>\n",
       "      <td>...</td>\n",
       "      <td>...</td>\n",
       "      <td>...</td>\n",
       "      <td>...</td>\n",
       "      <td>...</td>\n",
       "    </tr>\n",
       "    <tr>\n",
       "      <th>245</th>\n",
       "      <td>246</td>\n",
       "      <td>Dersu Uzala</td>\n",
       "      <td>1975</td>\n",
       "      <td>31,167</td>\n",
       "      <td>8.2</td>\n",
       "      <td>G</td>\n",
       "      <td>2h 22m</td>\n",
       "      <td>Adventure,Biography,Drama</td>\n",
       "      <td>nm0813272,nm0613364,nm0125730,nm1276196,nm6210...</td>\n",
       "      <td>rw1024676,rw0134934,rw1122059,rw2168879,rw2373...</td>\n",
       "      <td>0</td>\n",
       "    </tr>\n",
       "    <tr>\n",
       "      <th>246</th>\n",
       "      <td>247</td>\n",
       "      <td>The Help</td>\n",
       "      <td>2011</td>\n",
       "      <td>466,011</td>\n",
       "      <td>8.1</td>\n",
       "      <td>PG-13</td>\n",
       "      <td>2h 26m</td>\n",
       "      <td>Drama</td>\n",
       "      <td>nm1297015,nm0205626,nm0397171,nm0818055,nm1567...</td>\n",
       "      <td>rw2473566,rw2472337,rw2472299,rw2697863,rw2488...</td>\n",
       "      <td>0</td>\n",
       "    </tr>\n",
       "    <tr>\n",
       "      <th>247</th>\n",
       "      <td>248</td>\n",
       "      <td>Aladdin</td>\n",
       "      <td>1992</td>\n",
       "      <td>429,219</td>\n",
       "      <td>8.0</td>\n",
       "      <td>G</td>\n",
       "      <td>1h 30m</td>\n",
       "      <td>Animation,Adventure,Comedy</td>\n",
       "      <td>nm0918334,nm0000245,nm0488306,nm0293455,nm0919...</td>\n",
       "      <td>rw0302749,rw0950861,rw1571053,rw2534639,rw0302...</td>\n",
       "      <td>0</td>\n",
       "    </tr>\n",
       "    <tr>\n",
       "      <th>248</th>\n",
       "      <td>249</td>\n",
       "      <td>Gandhi</td>\n",
       "      <td>1982</td>\n",
       "      <td>234,688</td>\n",
       "      <td>8.0</td>\n",
       "      <td>PG</td>\n",
       "      <td>3h 11m</td>\n",
       "      <td>Biography,Drama,History</td>\n",
       "      <td>nm0001426,nm0368990,nm0786022,nm0000298,nm0002...</td>\n",
       "      <td>rw0194126,rw1179566,rw1106866,rw0194132,rw0194...</td>\n",
       "      <td>0</td>\n",
       "    </tr>\n",
       "    <tr>\n",
       "      <th>249</th>\n",
       "      <td>250</td>\n",
       "      <td>Dances with Wolves</td>\n",
       "      <td>1990</td>\n",
       "      <td>271,823</td>\n",
       "      <td>8.0</td>\n",
       "      <td>PG-13</td>\n",
       "      <td>3h 1m</td>\n",
       "      <td>Adventure,Drama,Western</td>\n",
       "      <td>nm0000126,nm0001521,nm0001295,nm0002110,nm0922...</td>\n",
       "      <td>rw6808367,rw2322324,rw4656461,rw0959913,rw1379...</td>\n",
       "      <td>0</td>\n",
       "    </tr>\n",
       "  </tbody>\n",
       "</table>\n",
       "<p>250 rows × 11 columns</p>\n",
       "</div>"
      ],
      "text/plain": [
       "     rank                     title  year imbd_votes  imbd_rating certificate  \\\n",
       "0       1  The Shawshank Redemption  1994  2,711,075          9.3           R   \n",
       "1       2             The Godfather  1972  1,882,829          9.2           R   \n",
       "2       3           The Dark Knight  2008  2,684,051          9.0       PG-13   \n",
       "3       4     The Godfather Part II  1974  1,285,350          9.0           R   \n",
       "4       5              12 Angry Men  1957    800,954          9.0    Approved   \n",
       "..    ...                       ...   ...        ...          ...         ...   \n",
       "245   246               Dersu Uzala  1975     31,167          8.2           G   \n",
       "246   247                  The Help  2011    466,011          8.1       PG-13   \n",
       "247   248                   Aladdin  1992    429,219          8.0           G   \n",
       "248   249                    Gandhi  1982    234,688          8.0          PG   \n",
       "249   250        Dances with Wolves  1990    271,823          8.0       PG-13   \n",
       "\n",
       "    duration                       genre  \\\n",
       "0     2h 22m                       Drama   \n",
       "1     2h 55m                 Crime,Drama   \n",
       "2     2h 32m          Action,Crime,Drama   \n",
       "3     3h 22m                 Crime,Drama   \n",
       "4     1h 36m                 Crime,Drama   \n",
       "..       ...                         ...   \n",
       "245   2h 22m   Adventure,Biography,Drama   \n",
       "246   2h 26m                       Drama   \n",
       "247   1h 30m  Animation,Adventure,Comedy   \n",
       "248   3h 11m     Biography,Drama,History   \n",
       "249    3h 1m     Adventure,Drama,Western   \n",
       "\n",
       "                                               cast_id  \\\n",
       "0    nm0000209,nm0000151,nm0348409,nm0006669,nm0000...   \n",
       "1    nm0000008,nm0000199,nm0001001,nm0144710,nm0000...   \n",
       "2    nm0000288,nm0005132,nm0001173,nm0000323,nm0350...   \n",
       "3    nm0000199,nm0000380,nm0000473,nm0000134,nm0001...   \n",
       "4    nm0000842,nm0275835,nm0002011,nm0550855,nm0001...   \n",
       "..                                                 ...   \n",
       "245  nm0813272,nm0613364,nm0125730,nm1276196,nm6210...   \n",
       "246  nm1297015,nm0205626,nm0397171,nm0818055,nm1567...   \n",
       "247  nm0918334,nm0000245,nm0488306,nm0293455,nm0919...   \n",
       "248  nm0001426,nm0368990,nm0786022,nm0000298,nm0002...   \n",
       "249  nm0000126,nm0001521,nm0001295,nm0002110,nm0922...   \n",
       "\n",
       "                                             review_id  self  \n",
       "0    rw2284594,rw6606154,rw1221355,rw1822343,rw1288...     0  \n",
       "1    rw3038370,rw4756923,rw4059579,rw6568526,rw1897...     0  \n",
       "2    rw5478826,rw1914442,rw6606026,rw1917099,rw5170...     0  \n",
       "3    rw0135607,rw0135487,rw5049900,rw0135526,rw0135...     0  \n",
       "4    rw0060044,rw0060025,rw0060034,rw2262425,rw5448...     0  \n",
       "..                                                 ...   ...  \n",
       "245  rw1024676,rw0134934,rw1122059,rw2168879,rw2373...     0  \n",
       "246  rw2473566,rw2472337,rw2472299,rw2697863,rw2488...     0  \n",
       "247  rw0302749,rw0950861,rw1571053,rw2534639,rw0302...     0  \n",
       "248  rw0194126,rw1179566,rw1106866,rw0194132,rw0194...     0  \n",
       "249  rw6808367,rw2322324,rw4656461,rw0959913,rw1379...     0  \n",
       "\n",
       "[250 rows x 11 columns]"
      ]
     },
     "execution_count": 54,
     "metadata": {},
     "output_type": "execute_result"
    }
   ],
   "source": [
    "data = pd.read_csv(\"movies.csv\")\n",
    "#Did the director write the movie on own\n",
    "data[\"self\"] = np.where(\n",
    "    data[\"director_id\"] == data[\"writer_id\"],\n",
    "    1, 0\n",
    ")\n",
    "\n",
    "data = data.drop([\"movie_id\", \"link\", \"director_id\", \"director_name\",\n",
    "          \"writer_id\", \"writer_name\", \"storyline\",\"user_id\",\"cast_name\", \"user_name\",\n",
    "          \"review_title\", \"review_content\"], axis = 1)\n",
    "data"
   ]
  },
  {
   "cell_type": "code",
   "execution_count": 55,
   "metadata": {
    "cell_id": "ca6ba9a9158c443c9cfe395b0c4a1328",
    "deepnote_cell_type": "code",
    "deepnote_to_be_reexecuted": false,
    "execution_millis": 88,
    "execution_start": 1682732191450,
    "source_hash": "521fe7c2"
   },
   "outputs": [],
   "source": [
    "#number of casts, reviews\n",
    "data[\"cast_n\"] = data[\"cast_id\"].apply(lambda x: len(x.split(\",\")))\n",
    "data[\"review_n\"] = data[\"review_id\"].apply(lambda x: len(x.split(\",\")))\n",
    "data = data.drop([\"cast_id\", \"review_id\"], axis = 1)"
   ]
  },
  {
   "cell_type": "code",
   "execution_count": 56,
   "metadata": {
    "cell_id": "afd0eecc432449a1a41de514f180ecf6",
    "deepnote_cell_type": "code",
    "deepnote_to_be_reexecuted": false,
    "execution_millis": 80,
    "execution_start": 1682732191459,
    "source_hash": "9d1bf8be"
   },
   "outputs": [],
   "source": [
    "#\"xh\" -> \"xh 0m\", \"xm\" -> \"0h xm\"\n",
    "def time(x):\n",
    "    if len(x) == 2:\n",
    "        x =  x + \" 0m\"\n",
    "    elif len(x) == 3:\n",
    "        x = \"0h \" + x\n",
    "    else:\n",
    "        x = x\n",
    "    return(x)"
   ]
  },
  {
   "cell_type": "code",
   "execution_count": 57,
   "metadata": {
    "cell_id": "bb0b319206c046c099c168298f877fd1",
    "deepnote_cell_type": "code",
    "deepnote_to_be_reexecuted": false,
    "execution_millis": 75,
    "execution_start": 1682732191464,
    "source_hash": "bbb77c29"
   },
   "outputs": [],
   "source": [
    "data[\"duration\"] = data[\"duration\"].apply(time)"
   ]
  },
  {
   "cell_type": "code",
   "execution_count": 58,
   "metadata": {
    "cell_id": "eff2ec81cd4741839b644f27a493bd50",
    "deepnote_cell_type": "code",
    "deepnote_to_be_reexecuted": false,
    "execution_millis": 69,
    "execution_start": 1682732191471,
    "source_hash": "c60ff86d"
   },
   "outputs": [],
   "source": [
    "#duration into minute\n",
    "dur = []\n",
    "for x in data[\"duration\"]:\n",
    "    dur.append(int(x.split(\" \")[0][:-1]) * 60 + int(x.split(\" \")[1][:-1]))\n",
    "data[\"duration\"] = dur"
   ]
  },
  {
   "cell_type": "code",
   "execution_count": 59,
   "metadata": {
    "cell_id": "88b11f5cdd5f4b978097a3d56aeba80b",
    "deepnote_cell_type": "code",
    "deepnote_to_be_reexecuted": false,
    "execution_millis": 58,
    "execution_start": 1682732191481,
    "source_hash": "dd9f6a81"
   },
   "outputs": [],
   "source": [
    "#Genre: Choose first one\n",
    "data[\"genre\"] = data[\"genre\"].apply(lambda x: x.split(\",\")[0])"
   ]
  },
  {
   "cell_type": "code",
   "execution_count": 60,
   "metadata": {
    "cell_id": "a98d03b18e484a3c8b94521e67fdf6bd",
    "deepnote_cell_type": "code",
    "deepnote_to_be_reexecuted": false,
    "execution_millis": 58,
    "execution_start": 1682732191482,
    "source_hash": "7344a977"
   },
   "outputs": [
    {
     "data": {
      "text/plain": [
       "array(['R', 'PG-13', 'Approved', 'PG', '18+', 'Not Rated', 'G', 'Passed',\n",
       "       nan, 'TV-PG', 'Unrated', 'X', '13+', 'TV-MA', 'GP'], dtype=object)"
      ]
     },
     "execution_count": 60,
     "metadata": {},
     "output_type": "execute_result"
    }
   ],
   "source": [
    "data[\"certificate\"].unique()\n",
    "#R, 18+, X, TV-MA => for legal adults"
   ]
  },
  {
   "cell_type": "code",
   "execution_count": 61,
   "metadata": {
    "cell_id": "6fdd337f174a44c884552b4fb8060d3a",
    "deepnote_cell_type": "code",
    "deepnote_to_be_reexecuted": false,
    "execution_millis": 19,
    "execution_start": 1682732191541,
    "source_hash": "5ad6c7ba"
   },
   "outputs": [
    {
     "data": {
      "text/html": [
       "<div>\n",
       "<style scoped>\n",
       "    .dataframe tbody tr th:only-of-type {\n",
       "        vertical-align: middle;\n",
       "    }\n",
       "\n",
       "    .dataframe tbody tr th {\n",
       "        vertical-align: top;\n",
       "    }\n",
       "\n",
       "    .dataframe thead th {\n",
       "        text-align: right;\n",
       "    }\n",
       "</style>\n",
       "<table border=\"1\" class=\"dataframe\">\n",
       "  <thead>\n",
       "    <tr style=\"text-align: right;\">\n",
       "      <th></th>\n",
       "      <th>rank</th>\n",
       "      <th>title</th>\n",
       "      <th>year</th>\n",
       "      <th>imbd_votes</th>\n",
       "      <th>imbd_rating</th>\n",
       "      <th>certificate</th>\n",
       "      <th>duration</th>\n",
       "      <th>genre</th>\n",
       "      <th>self</th>\n",
       "      <th>cast_n</th>\n",
       "      <th>review_n</th>\n",
       "    </tr>\n",
       "  </thead>\n",
       "  <tbody>\n",
       "    <tr>\n",
       "      <th>76</th>\n",
       "      <td>77</td>\n",
       "      <td>The Boat</td>\n",
       "      <td>1981</td>\n",
       "      <td>253,534</td>\n",
       "      <td>8.4</td>\n",
       "      <td>NaN</td>\n",
       "      <td>149</td>\n",
       "      <td>Drama</td>\n",
       "      <td>0</td>\n",
       "      <td>42</td>\n",
       "      <td>25</td>\n",
       "    </tr>\n",
       "    <tr>\n",
       "      <th>84</th>\n",
       "      <td>85</td>\n",
       "      <td>Requiem for a Dream</td>\n",
       "      <td>2000</td>\n",
       "      <td>852,453</td>\n",
       "      <td>8.3</td>\n",
       "      <td>Unrated</td>\n",
       "      <td>102</td>\n",
       "      <td>Drama</td>\n",
       "      <td>0</td>\n",
       "      <td>79</td>\n",
       "      <td>25</td>\n",
       "    </tr>\n",
       "  </tbody>\n",
       "</table>\n",
       "</div>"
      ],
      "text/plain": [
       "    rank                title  year imbd_votes  imbd_rating certificate  \\\n",
       "76    77             The Boat  1981    253,534          8.4         NaN   \n",
       "84    85  Requiem for a Dream  2000    852,453          8.3     Unrated   \n",
       "\n",
       "    duration  genre  self  cast_n  review_n  \n",
       "76       149  Drama     0      42        25  \n",
       "84       102  Drama     0      79        25  "
      ]
     },
     "execution_count": 61,
     "metadata": {},
     "output_type": "execute_result"
    }
   ],
   "source": [
    "data[(data[\"certificate\"].isna()) | (data[\"certificate\"] == \"Unrated\")]\n",
    "#The Boat is Rated R\n",
    "#Requiem for a Dream is Rated R\n"
   ]
  },
  {
   "cell_type": "code",
   "execution_count": 62,
   "metadata": {
    "cell_id": "7bdcc60ed98a4f28ae31a25e84660eef",
    "deepnote_cell_type": "code",
    "deepnote_to_be_reexecuted": false,
    "execution_millis": 2,
    "execution_start": 1682732191598,
    "source_hash": "d7995827"
   },
   "outputs": [
    {
     "name": "stderr",
     "output_type": "stream",
     "text": [
      "<ipython-input-62-abe1f19645bd>:1: SettingWithCopyWarning: \n",
      "A value is trying to be set on a copy of a slice from a DataFrame\n",
      "\n",
      "See the caveats in the documentation: https://pandas.pydata.org/pandas-docs/stable/user_guide/indexing.html#returning-a-view-versus-a-copy\n",
      "  data[\"certificate\"][(data[\"title\"] == \"The Boat\") | (data[\"title\"] == \"Requiem for a Dream\")] = \"R\"\n"
     ]
    }
   ],
   "source": [
    "data[\"certificate\"][(data[\"title\"] == \"The Boat\") | (data[\"title\"] == \"Requiem for a Dream\")] = \"R\""
   ]
  },
  {
   "cell_type": "code",
   "execution_count": 63,
   "metadata": {
    "cell_id": "f4910771d56647c08919c9f8d2ffd319",
    "deepnote_cell_type": "code",
    "deepnote_to_be_reexecuted": false,
    "execution_millis": 3,
    "execution_start": 1682732191598,
    "source_hash": "a429f75c"
   },
   "outputs": [],
   "source": [
    "#R, 18+, X, TV-MA => for legal adults\n",
    "#1 == for adults\n",
    "def age(x):\n",
    "    if x == \"R\" or x == \"18+\" or x == \"X\" or x == \"TV-MA\":\n",
    "        return(1)\n",
    "    else:\n",
    "        return(0)\n",
    "    \n",
    "data[\"certificate\"] = data[\"certificate\"].apply(age)"
   ]
  },
  {
   "cell_type": "code",
   "execution_count": 64,
   "metadata": {
    "cell_id": "f7089ac59f4d4c818ef82483535d3f2e",
    "deepnote_cell_type": "code",
    "deepnote_to_be_reexecuted": false,
    "execution_millis": 4,
    "execution_start": 1682732191599,
    "source_hash": "a5ec99fc"
   },
   "outputs": [],
   "source": [
    "data['imbd_votes'] = data['imbd_votes'].str.replace(',', '').astype(float)"
   ]
  },
  {
   "cell_type": "code",
   "execution_count": 65,
   "metadata": {
    "cell_id": "c4d305cc3ac049ce86458881ae79e00a",
    "deepnote_cell_type": "code",
    "deepnote_to_be_reexecuted": false,
    "execution_millis": 1,
    "execution_start": 1682732191643,
    "source_hash": "41a88f17"
   },
   "outputs": [],
   "source": [
    "#movies after 2000\n",
    "df=data.copy()\n",
    "df['recent'] = df['year']>=2000"
   ]
  },
  {
   "cell_type": "markdown",
   "metadata": {
    "cell_id": "3625b5ba593f44dcbade8821abb38419",
    "deepnote_cell_type": "markdown"
   },
   "source": [
    "**2. Descriptive Analytics Research Question Set**\n",
    "\n",
    "1. Goal: You should pick three or more variables and explore the relationship\n",
    "between these variables in the dataset.\n",
    "- For instance, you could ask “What is the relationship between x and y in\n",
    "this dataset? Furthermore, how does this relationship between x and y\n",
    "change for different values of z?”\n",
    "2. State your research question you will answer with your analysis. Remember,\n",
    "descriptive analytics only involves describing relationships in the dataset that you\n",
    "have, so your research question should be just about the dataset.\n",
    "3. Use at least one visualization to answer this question. You should have at least\n",
    "one visualization that incorporates 3 or more variables in the same plot.\n",
    "4. Use at least one set of summary statistics to help answer this question as well.\n",
    "5. Describe what you see in your visualization and summary statistics, what they tell\n",
    "you, and how they help answer your research question."
   ]
  },
  {
   "cell_type": "markdown",
   "metadata": {
    "cell_id": "4b4745c02cd445b2b91b9ef131723495",
    "deepnote_cell_type": "markdown"
   },
   "source": [
    "**research question**\n",
    "\n",
    "What is the relationship between the duration of movie and imdb votes? Furthermore, how do the duration and imbd votes change based on whether a movie was released recently or not?"
   ]
  },
  {
   "cell_type": "code",
   "execution_count": 66,
   "metadata": {
    "cell_id": "37808e135910469abd7fe883219027d7",
    "deepnote_cell_type": "code",
    "deepnote_to_be_reexecuted": false,
    "execution_millis": 604,
    "execution_start": 1682732191643,
    "source_hash": "3d23ab05"
   },
   "outputs": [
    {
     "data": {
      "image/png": "[encoded data removed]",
      "text/plain": [
       "<Figure size 421.25x360 with 1 Axes>"
      ]
     },
     "metadata": {
      "needs_background": "light"
     },
     "output_type": "display_data"
    }
   ],
   "source": [
    "sns.lmplot(x='duration', y='imbd_votes', hue='recent', data=df)\n",
    "plt.show()"
   ]
  },
  {
   "cell_type": "code",
   "execution_count": 68,
   "metadata": {
    "cell_id": "a40ccc71e45544a4b2d66105936b0fce",
    "deepnote_cell_type": "code",
    "deepnote_to_be_reexecuted": false,
    "execution_millis": 12,
    "execution_start": 1682732192249,
    "source_hash": "a3fb8394"
   },
   "outputs": [
    {
     "data": {
      "text/html": [
       "<div>\n",
       "<style scoped>\n",
       "    .dataframe tbody tr th:only-of-type {\n",
       "        vertical-align: middle;\n",
       "    }\n",
       "\n",
       "    .dataframe tbody tr th {\n",
       "        vertical-align: top;\n",
       "    }\n",
       "\n",
       "    .dataframe thead th {\n",
       "        text-align: right;\n",
       "    }\n",
       "</style>\n",
       "<table border=\"1\" class=\"dataframe\">\n",
       "  <thead>\n",
       "    <tr style=\"text-align: right;\">\n",
       "      <th></th>\n",
       "      <th>duration</th>\n",
       "      <th>imbd_votes</th>\n",
       "    </tr>\n",
       "    <tr>\n",
       "      <th>recent</th>\n",
       "      <th></th>\n",
       "      <th></th>\n",
       "    </tr>\n",
       "  </thead>\n",
       "  <tbody>\n",
       "    <tr>\n",
       "      <th>False</th>\n",
       "      <td>127.941558</td>\n",
       "      <td>555848.12987</td>\n",
       "    </tr>\n",
       "    <tr>\n",
       "      <th>True</th>\n",
       "      <td>131.041667</td>\n",
       "      <td>795252.53125</td>\n",
       "    </tr>\n",
       "  </tbody>\n",
       "</table>\n",
       "</div>"
      ],
      "text/plain": [
       "          duration    imbd_votes\n",
       "recent                          \n",
       "False   127.941558  555848.12987\n",
       "True    131.041667  795252.53125"
      ]
     },
     "execution_count": 68,
     "metadata": {},
     "output_type": "execute_result"
    }
   ],
   "source": [
    "sum_stat=df.groupby('recent')[['duration', 'imbd_votes']].mean()\n",
    "sum_stat"
   ]
  },
  {
   "cell_type": "markdown",
   "metadata": {
    "cell_id": "411973064d3c41eda2259517fa0af327",
    "deepnote_cell_type": "markdown"
   },
   "source": [
    "**research question:** \n",
    "\n",
    "What is the relationship between the duration of movie and imdb votes? Furthermore, how do the duration and imbd votes change based on whether a movie was released recently or not?\n",
    "\n",
    "\n",
    "From scatter plot above is moderately strong, showing positive relationship between duration and imbd_votes for both recent and older movies. There are some outliers with relatively long duration and very high imbd votes. The center of the spread is around 100-125 with concentration around 0 and 1 million votes. \n",
    "\n",
    "From this summary statistic, we can see that the mean duration is longer for recent movies (after 2000) and imdb votes is also higher for recent movies. \n"
   ]
  },
  {
   "cell_type": "markdown",
   "metadata": {
    "cell_id": "5ee8dd027a0f4b54b3013ce5a7721818",
    "deepnote_cell_type": "markdown"
   },
   "source": [
    "**3. Inference Research Question Set**\n",
    "1. Goal: You should pick two variables (at least one categorical) and explore the\n",
    "relationship between these variables in a population.\n",
    "- For instance, you could ask “Is there an association between x and y in\n",
    "my population?”\n",
    "- Choose one of the following types of inference parameters: difference in two population proportions, difference of two population means, or challenge yourself with ANOVA.\n",
    "2. State your research question that you will answer with your analysis. Remember,\n",
    "inferential statistics involves answering research questions about populations\n",
    "given a random sample from that population. Your research question should\n",
    "reference the population from which your data were collected.\n",
    "3. Complete at least one hypothesis test to answer this research question, including\n",
    "- Stating your hypotheses,\n",
    "- Checking the conditions for this test,\n",
    "- Calculating a p-value (or confidence interval) for this test by hand, and\n",
    "4. Using your results to state a conclusion.\n",
    "5. Finally, discuss how your conclusion answers your research question."
   ]
  },
  {
   "cell_type": "code",
   "execution_count": 69,
   "metadata": {},
   "outputs": [],
   "source": [
    "#Certificate(Category - 0, 1) vs Duration\n",
    "#Is there an association between whether the movie is only for adults and duration of the movie?\n",
    "adult = df[df[\"certificate\"] == 1]\n",
    "adultx = df[df[\"certificate\"] == 0]"
   ]
  },
  {
   "cell_type": "markdown",
   "metadata": {},
   "source": [
    "- Set hypothesis to check if there is a difference in duration of movies between movie for adults and movie for everyone.\n",
    "- $H_0$: $Mu_1$ - $Mu_2$ = 0\n",
    "- $H_a$: $Mu_1$ - $Mu_2$ != 0"
   ]
  },
  {
   "cell_type": "markdown",
   "metadata": {},
   "source": [
    "**Condition check**\n",
    "- Independency: Two samples are independent to each other, and each observation is independent as well.\n",
    "- Normality: As the sample size is over 100, the sample size is large enough. We can assume that the normality assumption may be met due to central limit theorem.\n",
    "- Random Sampling: Since the sample is collected by subseting top 250 movies depending on the IMDB rating, it is hard to tell that the data itself is collected random. So, we conducted random sample simulation through sampling with replacement from the data."
   ]
  },
  {
   "cell_type": "code",
   "execution_count": 70,
   "metadata": {},
   "outputs": [],
   "source": [
    "mu_diff = []\n",
    "for i in range(10000):\n",
    "    sample_adult = adult.sample(len(adult), replace = True, random_state = i)\n",
    "    sample_adultx = adultx.sample(len(adultx), replace = True, random_state = i)\n",
    "    \n",
    "    Mu_1 = sample_adult[\"duration\"].mean()\n",
    "    Mu_2 = sample_adultx[\"duration\"].mean()\n",
    "    mu_diff.append(Mu_1 - Mu_2)"
   ]
  },
  {
   "cell_type": "code",
   "execution_count": 71,
   "metadata": {},
   "outputs": [
    {
     "data": {
      "text/plain": [
       "0.050402055592104755"
      ]
     },
     "execution_count": 71,
     "metadata": {},
     "output_type": "execute_result"
    }
   ],
   "source": [
    "mu = np.array(mu_diff).mean()\n",
    "std_1 = adult[\"duration\"].std()\n",
    "std_2 = adultx[\"duration\"].std()\n",
    "pooled = np.sqrt(((len(adult) - 1) * (std_1 ** 2)) + ((len(adultx) - 1) * (std_2 ** 2))) / np.sqrt(len(adult) + len(adultx) - 2)\n",
    "test_statistics = mu / (pooled * np.sqrt((1/len(adult)) + (1/len(adultx))))\n",
    "p_val = (1 - (t.cdf(test_statistics, df = len(df) - 2))) * 2\n",
    "p_val"
   ]
  },
  {
   "cell_type": "markdown",
   "metadata": {},
   "source": [
    "Since the p-value is slightly over the significance level 0.05, there is no sufficient evidence to tell that there is a difference between duration of movies depending on whehter they are for adults or everyone. Result of this hypothesis test answers our research question with the answer \"No\"."
   ]
  },
  {
   "cell_type": "markdown",
   "metadata": {
    "cell_id": "64b5463005284bda9f6e4db8bb9586e6",
    "deepnote_cell_type": "markdown"
   },
   "source": [
    "**4. Linear Regression Research Question Set**\n",
    "1. Goal: You should pick a numeric response variable and at least four explanatory variables that you suspect might affect your response variable. Explore whether there is a linear relationship between the explanatory variables and the response variable, in the dataset and in the population.\n",
    "- For instance, you could ask two questions like: “Is there a linear relationship between y and x1, x2, x3, and x4 in the sample? What about in the relevant population?”\n",
    "2. State your research question(s) you’d like to answer with your analysis.\n",
    "3. Use at least one linear regression model to answer this question. Include the following:\n",
    "- Show the summary output for your linear regression.\n",
    "- Write out the linear regression equation for your model. Use appropriate notation.\n",
    "- Check the linear regression conditions. If they are not met, try transforming one of the variables (maybe with a natural log) and see if that helps meet the conditions. If you have multicollinear explanatory variables, try dropping one. (If dropping a multicollinear variable brings you below the four required explanatory variables, this is ok. Be sure you show the progression of your analysis, including your model with at least four variables.).\n",
    "- Discuss what percent of variability in your response variable is explained by this model in the dataset. Is this high? Is this low?\n",
    "- Make at least one prediction with your model.\n",
    "- Which slopes in your model do we have sufficient evidence to suggest are non-zero in the population model? Explain your answer.\n",
    "4. Finally, discuss how your linear regression analysis helps answer your research question.\n"
   ]
  },
  {
   "cell_type": "markdown",
   "metadata": {
    "cell_id": "b4634c779716425eb729fe13417f7065",
    "deepnote_cell_type": "markdown"
   },
   "source": [
    "**research question**\n",
    "\n",
    "Is there a linear relationship between the duration of move and imbd votes, when it was released, cast number? What about in the relevant population?"
   ]
  },
  {
   "cell_type": "code",
   "execution_count": 72,
   "metadata": {
    "scrolled": true
   },
   "outputs": [
    {
     "data": {
      "text/html": [
       "<div>\n",
       "<style scoped>\n",
       "    .dataframe tbody tr th:only-of-type {\n",
       "        vertical-align: middle;\n",
       "    }\n",
       "\n",
       "    .dataframe tbody tr th {\n",
       "        vertical-align: top;\n",
       "    }\n",
       "\n",
       "    .dataframe thead th {\n",
       "        text-align: right;\n",
       "    }\n",
       "</style>\n",
       "<table border=\"1\" class=\"dataframe\">\n",
       "  <thead>\n",
       "    <tr style=\"text-align: right;\">\n",
       "      <th></th>\n",
       "      <th>rank</th>\n",
       "      <th>title</th>\n",
       "      <th>year</th>\n",
       "      <th>imbd_votes</th>\n",
       "      <th>imbd_rating</th>\n",
       "      <th>certificate</th>\n",
       "      <th>duration</th>\n",
       "      <th>genre</th>\n",
       "      <th>self</th>\n",
       "      <th>cast_n</th>\n",
       "      <th>review_n</th>\n",
       "      <th>recent</th>\n",
       "    </tr>\n",
       "  </thead>\n",
       "  <tbody>\n",
       "    <tr>\n",
       "      <th>0</th>\n",
       "      <td>1</td>\n",
       "      <td>The Shawshank Redemption</td>\n",
       "      <td>1994</td>\n",
       "      <td>2711075.0</td>\n",
       "      <td>9.3</td>\n",
       "      <td>1</td>\n",
       "      <td>142</td>\n",
       "      <td>Drama</td>\n",
       "      <td>0</td>\n",
       "      <td>73</td>\n",
       "      <td>25</td>\n",
       "      <td>False</td>\n",
       "    </tr>\n",
       "    <tr>\n",
       "      <th>1</th>\n",
       "      <td>2</td>\n",
       "      <td>The Godfather</td>\n",
       "      <td>1972</td>\n",
       "      <td>1882829.0</td>\n",
       "      <td>9.2</td>\n",
       "      <td>1</td>\n",
       "      <td>175</td>\n",
       "      <td>Crime</td>\n",
       "      <td>0</td>\n",
       "      <td>84</td>\n",
       "      <td>25</td>\n",
       "      <td>False</td>\n",
       "    </tr>\n",
       "    <tr>\n",
       "      <th>2</th>\n",
       "      <td>3</td>\n",
       "      <td>The Dark Knight</td>\n",
       "      <td>2008</td>\n",
       "      <td>2684051.0</td>\n",
       "      <td>9.0</td>\n",
       "      <td>0</td>\n",
       "      <td>152</td>\n",
       "      <td>Action</td>\n",
       "      <td>0</td>\n",
       "      <td>243</td>\n",
       "      <td>25</td>\n",
       "      <td>True</td>\n",
       "    </tr>\n",
       "    <tr>\n",
       "      <th>3</th>\n",
       "      <td>4</td>\n",
       "      <td>The Godfather Part II</td>\n",
       "      <td>1974</td>\n",
       "      <td>1285350.0</td>\n",
       "      <td>9.0</td>\n",
       "      <td>1</td>\n",
       "      <td>202</td>\n",
       "      <td>Crime</td>\n",
       "      <td>0</td>\n",
       "      <td>110</td>\n",
       "      <td>25</td>\n",
       "      <td>False</td>\n",
       "    </tr>\n",
       "    <tr>\n",
       "      <th>4</th>\n",
       "      <td>5</td>\n",
       "      <td>12 Angry Men</td>\n",
       "      <td>1957</td>\n",
       "      <td>800954.0</td>\n",
       "      <td>9.0</td>\n",
       "      <td>0</td>\n",
       "      <td>96</td>\n",
       "      <td>Crime</td>\n",
       "      <td>0</td>\n",
       "      <td>18</td>\n",
       "      <td>25</td>\n",
       "      <td>False</td>\n",
       "    </tr>\n",
       "  </tbody>\n",
       "</table>\n",
       "</div>"
      ],
      "text/plain": [
       "   rank                     title  year  imbd_votes  imbd_rating  certificate  \\\n",
       "0     1  The Shawshank Redemption  1994   2711075.0          9.3            1   \n",
       "1     2             The Godfather  1972   1882829.0          9.2            1   \n",
       "2     3           The Dark Knight  2008   2684051.0          9.0            0   \n",
       "3     4     The Godfather Part II  1974   1285350.0          9.0            1   \n",
       "4     5              12 Angry Men  1957    800954.0          9.0            0   \n",
       "\n",
       "   duration   genre  self  cast_n  review_n  recent  \n",
       "0       142   Drama     0      73        25   False  \n",
       "1       175   Crime     0      84        25   False  \n",
       "2       152  Action     0     243        25    True  \n",
       "3       202   Crime     0     110        25   False  \n",
       "4        96   Crime     0      18        25   False  "
      ]
     },
     "execution_count": 72,
     "metadata": {},
     "output_type": "execute_result"
    }
   ],
   "source": [
    "df.head()"
   ]
  },
  {
   "cell_type": "markdown",
   "metadata": {},
   "source": [
    "**i.** Show the summary output for your linear regression."
   ]
  },
  {
   "cell_type": "code",
   "execution_count": 73,
   "metadata": {},
   "outputs": [
    {
     "data": {
      "text/html": [
       "<table class=\"simpletable\">\n",
       "<caption>OLS Regression Results</caption>\n",
       "<tr>\n",
       "  <th>Dep. Variable:</th>        <td>duration</td>     <th>  R-squared:         </th> <td>   0.159</td>\n",
       "</tr>\n",
       "<tr>\n",
       "  <th>Model:</th>                   <td>OLS</td>       <th>  Adj. R-squared:    </th> <td>   0.145</td>\n",
       "</tr>\n",
       "<tr>\n",
       "  <th>Method:</th>             <td>Least Squares</td>  <th>  F-statistic:       </th> <td>   11.60</td>\n",
       "</tr>\n",
       "<tr>\n",
       "  <th>Date:</th>             <td>Wed, 03 May 2023</td> <th>  Prob (F-statistic):</th> <td>1.22e-08</td>\n",
       "</tr>\n",
       "<tr>\n",
       "  <th>Time:</th>                 <td>16:02:40</td>     <th>  Log-Likelihood:    </th> <td> -1184.4</td>\n",
       "</tr>\n",
       "<tr>\n",
       "  <th>No. Observations:</th>      <td>   250</td>      <th>  AIC:               </th> <td>   2379.</td>\n",
       "</tr>\n",
       "<tr>\n",
       "  <th>Df Residuals:</th>          <td>   245</td>      <th>  BIC:               </th> <td>   2396.</td>\n",
       "</tr>\n",
       "<tr>\n",
       "  <th>Df Model:</th>              <td>     4</td>      <th>                     </th>     <td> </td>   \n",
       "</tr>\n",
       "<tr>\n",
       "  <th>Covariance Type:</th>      <td>nonrobust</td>    <th>                     </th>     <td> </td>   \n",
       "</tr>\n",
       "</table>\n",
       "<table class=\"simpletable\">\n",
       "<tr>\n",
       "       <td></td>          <th>coef</th>     <th>std err</th>      <th>t</th>      <th>P>|t|</th>  <th>[0.025</th>    <th>0.975]</th>  \n",
       "</tr>\n",
       "<tr>\n",
       "  <th>Intercept</th>   <td>   86.5171</td> <td>  159.571</td> <td>    0.542</td> <td> 0.588</td> <td> -227.789</td> <td>  400.823</td>\n",
       "</tr>\n",
       "<tr>\n",
       "  <th>imbd_votes</th>  <td> 3.851e-06</td> <td> 3.99e-06</td> <td>    0.965</td> <td> 0.335</td> <td>-4.01e-06</td> <td> 1.17e-05</td>\n",
       "</tr>\n",
       "<tr>\n",
       "  <th>year</th>        <td>    0.0117</td> <td>    0.081</td> <td>    0.145</td> <td> 0.885</td> <td>   -0.148</td> <td>    0.171</td>\n",
       "</tr>\n",
       "<tr>\n",
       "  <th>cast_n</th>      <td>    0.1924</td> <td>    0.034</td> <td>    5.632</td> <td> 0.000</td> <td>    0.125</td> <td>    0.260</td>\n",
       "</tr>\n",
       "<tr>\n",
       "  <th>certificate</th> <td>    5.8225</td> <td>    3.938</td> <td>    1.479</td> <td> 0.141</td> <td>   -1.933</td> <td>   13.578</td>\n",
       "</tr>\n",
       "</table>\n",
       "<table class=\"simpletable\">\n",
       "<tr>\n",
       "  <th>Omnibus:</th>       <td>35.257</td> <th>  Durbin-Watson:     </th> <td>   2.017</td>\n",
       "</tr>\n",
       "<tr>\n",
       "  <th>Prob(Omnibus):</th> <td> 0.000</td> <th>  Jarque-Bera (JB):  </th> <td>  47.029</td>\n",
       "</tr>\n",
       "<tr>\n",
       "  <th>Skew:</th>          <td> 0.927</td> <th>  Prob(JB):          </th> <td>6.13e-11</td>\n",
       "</tr>\n",
       "<tr>\n",
       "  <th>Kurtosis:</th>      <td> 4.038</td> <th>  Cond. No.          </th> <td>7.52e+07</td>\n",
       "</tr>\n",
       "</table><br/><br/>Warnings:<br/>[1] Standard Errors assume that the covariance matrix of the errors is correctly specified.<br/>[2] The condition number is large, 7.52e+07. This might indicate that there are<br/>strong multicollinearity or other numerical problems."
      ],
      "text/plain": [
       "<class 'statsmodels.iolib.summary.Summary'>\n",
       "\"\"\"\n",
       "                            OLS Regression Results                            \n",
       "==============================================================================\n",
       "Dep. Variable:               duration   R-squared:                       0.159\n",
       "Model:                            OLS   Adj. R-squared:                  0.145\n",
       "Method:                 Least Squares   F-statistic:                     11.60\n",
       "Date:                Wed, 03 May 2023   Prob (F-statistic):           1.22e-08\n",
       "Time:                        16:02:40   Log-Likelihood:                -1184.4\n",
       "No. Observations:                 250   AIC:                             2379.\n",
       "Df Residuals:                     245   BIC:                             2396.\n",
       "Df Model:                           4                                         \n",
       "Covariance Type:            nonrobust                                         \n",
       "===============================================================================\n",
       "                  coef    std err          t      P>|t|      [0.025      0.975]\n",
       "-------------------------------------------------------------------------------\n",
       "Intercept      86.5171    159.571      0.542      0.588    -227.789     400.823\n",
       "imbd_votes   3.851e-06   3.99e-06      0.965      0.335   -4.01e-06    1.17e-05\n",
       "year            0.0117      0.081      0.145      0.885      -0.148       0.171\n",
       "cast_n          0.1924      0.034      5.632      0.000       0.125       0.260\n",
       "certificate     5.8225      3.938      1.479      0.141      -1.933      13.578\n",
       "==============================================================================\n",
       "Omnibus:                       35.257   Durbin-Watson:                   2.017\n",
       "Prob(Omnibus):                  0.000   Jarque-Bera (JB):               47.029\n",
       "Skew:                           0.927   Prob(JB):                     6.13e-11\n",
       "Kurtosis:                       4.038   Cond. No.                     7.52e+07\n",
       "==============================================================================\n",
       "\n",
       "Warnings:\n",
       "[1] Standard Errors assume that the covariance matrix of the errors is correctly specified.\n",
       "[2] The condition number is large, 7.52e+07. This might indicate that there are\n",
       "strong multicollinearity or other numerical problems.\n",
       "\"\"\""
      ]
     },
     "execution_count": 73,
     "metadata": {},
     "output_type": "execute_result"
    }
   ],
   "source": [
    "results = smf.ols('duration ~ imbd_votes+year+cast_n+certificate', data=df).fit()\n",
    "\n",
    "results.summary()"
   ]
  },
  {
   "cell_type": "markdown",
   "metadata": {
    "cell_id": "23ff9b6908264e748f8cd964a7281b4b",
    "deepnote_cell_type": "markdown"
   },
   "source": [
    "**ii.** Write out the linear regression equation for your model. Use appropriate notation.\n",
    "\n",
    "$\\hat{y}$ = 86.5171 + 3.851e-06imbd_votes + 0.0117year + 0.1924cast_n + 5.8225certificate"
   ]
  },
  {
   "cell_type": "markdown",
   "metadata": {},
   "source": [
    "**iii.** Check the linear regression conditions. If they are not met, try\n",
    "transforming one of the variables (maybe with a natural log) and see if\n",
    "that helps meet the conditions. If you have multicollinear explanatory\n",
    "variables, try dropping one. (If dropping a multicollinear variable brings you below the four required explanatory variables, this is ok. Be sure you show the progression of your analysis, including your model with at least four variables.)."
   ]
  },
  {
   "cell_type": "code",
   "execution_count": 74,
   "metadata": {
    "cell_id": "45075dd9457f4b7ead94be59f8e29ae0",
    "deepnote_cell_type": "code",
    "deepnote_to_be_reexecuted": false,
    "execution_millis": 491,
    "execution_start": 1682732192388,
    "source_hash": "217e2c49"
   },
   "outputs": [
    {
     "data": {
      "image/png": "[encoded data removed]",
      "text/plain": [
       "<Figure size 432x288 with 1 Axes>"
      ]
     },
     "metadata": {
      "needs_background": "light"
     },
     "output_type": "display_data"
    }
   ],
   "source": [
    "#Condition 1: Linearity Condition\n",
    "\n",
    "sns.regplot(x=results.fittedvalues, y=results.resid, ci=None)\n",
    "plt.ylabel('Residual')\n",
    "plt.xlabel('Fitted Value')\n",
    "plt.show()"
   ]
  },
  {
   "cell_type": "markdown",
   "metadata": {
    "cell_id": "8db0420cea00448db26787419f2cbc3d",
    "deepnote_cell_type": "markdown"
   },
   "source": [
    "The distribution of points in the plot are not evenly distributed above and below the line. We can say the linearity condition is not met. "
   ]
  },
  {
   "cell_type": "markdown",
   "metadata": {
    "cell_id": "73d57a6b83f1464792a1985dbc39e6a9",
    "deepnote_cell_type": "markdown"
   },
   "source": [
    "Condition 2: Constant Variability of Residuals\n",
    "\n",
    "The y-axis spread of points in the plot slightly changes as we move from left to right. This condition is also met. "
   ]
  },
  {
   "cell_type": "code",
   "execution_count": 75,
   "metadata": {
    "cell_id": "9eae641ddde9482d9e64df7b3122d83b",
    "deepnote_cell_type": "code",
    "deepnote_to_be_reexecuted": false,
    "execution_millis": 122,
    "execution_start": 1682732192774,
    "source_hash": "5d0d3d79"
   },
   "outputs": [
    {
     "data": {
      "image/png": "[encoded data removed]",
      "text/plain": [
       "<Figure size 432x288 with 1 Axes>"
      ]
     },
     "metadata": {
      "needs_background": "light"
     },
     "output_type": "display_data"
    }
   ],
   "source": [
    "#Condition 3: Normality of Residuals (with Mean of 0) Condition\n",
    "plt.hist(results.resid)\n",
    "plt.xlabel('Residuals')\n",
    "plt.show()"
   ]
  },
  {
   "cell_type": "markdown",
   "metadata": {
    "cell_id": "fe18727c3dda44e5b4a828e969288fd0",
    "deepnote_cell_type": "markdown"
   },
   "source": [
    "The histogram is slightly right-skewed, however approximately normally distributed. The assumption that the residuals are normally distributed is met."
   ]
  },
  {
   "cell_type": "markdown",
   "metadata": {
    "cell_id": "517bed699534417398bc748beb8755f4",
    "deepnote_cell_type": "markdown"
   },
   "source": [
    "Condition 4: Independence of Residuals Condition\n",
    "\n",
    "Data is randomly sampled and the sample size n=250<10% of all imdb movies. \n",
    "\n",
    "Thus, the condition for independence of residuals may not be violated."
   ]
  },
  {
   "cell_type": "code",
   "execution_count": 76,
   "metadata": {
    "cell_id": "b14554a4654f4c9f8325c06e5dbfbab5",
    "deepnote_cell_type": "code",
    "deepnote_to_be_reexecuted": false,
    "execution_millis": 1491,
    "execution_start": 1682732192888,
    "source_hash": "6e2bf452"
   },
   "outputs": [
    {
     "data": {
      "image/png": "[encoded data removed]",
      "text/plain": [
       "<Figure size 720x720 with 20 Axes>"
      ]
     },
     "metadata": {
      "needs_background": "light"
     },
     "output_type": "display_data"
    }
   ],
   "source": [
    "#Condition 5: No Multicollinearity Condition\n",
    "sns.pairplot(df[['imbd_votes','year','cast_n','certificate']])\n",
    "plt.show()"
   ]
  },
  {
   "cell_type": "code",
   "execution_count": 77,
   "metadata": {
    "cell_id": "4a239d6e69234fa1a1314d4cd9a3a7d6",
    "deepnote_cell_type": "code",
    "deepnote_to_be_reexecuted": false,
    "execution_millis": 4,
    "execution_start": 1682732194403,
    "source_hash": "34e9bdee"
   },
   "outputs": [
    {
     "data": {
      "text/html": [
       "<div>\n",
       "<style scoped>\n",
       "    .dataframe tbody tr th:only-of-type {\n",
       "        vertical-align: middle;\n",
       "    }\n",
       "\n",
       "    .dataframe tbody tr th {\n",
       "        vertical-align: top;\n",
       "    }\n",
       "\n",
       "    .dataframe thead th {\n",
       "        text-align: right;\n",
       "    }\n",
       "</style>\n",
       "<table border=\"1\" class=\"dataframe\">\n",
       "  <thead>\n",
       "    <tr style=\"text-align: right;\">\n",
       "      <th></th>\n",
       "      <th>imbd_votes</th>\n",
       "      <th>year</th>\n",
       "      <th>cast_n</th>\n",
       "      <th>certificate</th>\n",
       "    </tr>\n",
       "  </thead>\n",
       "  <tbody>\n",
       "    <tr>\n",
       "      <th>imbd_votes</th>\n",
       "      <td>1.000000</td>\n",
       "      <td>0.427422</td>\n",
       "      <td>0.327963</td>\n",
       "      <td>0.302194</td>\n",
       "    </tr>\n",
       "    <tr>\n",
       "      <th>year</th>\n",
       "      <td>0.427422</td>\n",
       "      <td>1.000000</td>\n",
       "      <td>0.149116</td>\n",
       "      <td>0.365248</td>\n",
       "    </tr>\n",
       "    <tr>\n",
       "      <th>cast_n</th>\n",
       "      <td>0.327963</td>\n",
       "      <td>0.149116</td>\n",
       "      <td>1.000000</td>\n",
       "      <td>0.013909</td>\n",
       "    </tr>\n",
       "    <tr>\n",
       "      <th>certificate</th>\n",
       "      <td>0.302194</td>\n",
       "      <td>0.365248</td>\n",
       "      <td>0.013909</td>\n",
       "      <td>1.000000</td>\n",
       "    </tr>\n",
       "  </tbody>\n",
       "</table>\n",
       "</div>"
      ],
      "text/plain": [
       "             imbd_votes      year    cast_n  certificate\n",
       "imbd_votes     1.000000  0.427422  0.327963     0.302194\n",
       "year           0.427422  1.000000  0.149116     0.365248\n",
       "cast_n         0.327963  0.149116  1.000000     0.013909\n",
       "certificate    0.302194  0.365248  0.013909     1.000000"
      ]
     },
     "execution_count": 77,
     "metadata": {},
     "output_type": "execute_result"
    }
   ],
   "source": [
    "df[['imbd_votes','year','cast_n','certificate']].corr()"
   ]
  },
  {
   "cell_type": "markdown",
   "metadata": {
    "cell_id": "12ea3f3051ff4d75b030b18f333171fe",
    "deepnote_cell_type": "markdown"
   },
   "source": [
    "We can see that there is a moderately high linear relationship between the explanatory variables but not as high to violate the multicollinearity condition."
   ]
  },
  {
   "cell_type": "markdown",
   "metadata": {
    "cell_id": "69daf32c92a34a96a19c5da7d63bce7f",
    "deepnote_cell_type": "markdown"
   },
   "source": [
    "Since condition 1, 2, and 3 are not met, we will try transforming some variables. \n",
    "\n"
   ]
  },
  {
   "cell_type": "code",
   "execution_count": 78,
   "metadata": {
    "cell_id": "f12cbb0f7ecb40c18a41fe0e17f44711",
    "deepnote_cell_type": "code",
    "deepnote_to_be_reexecuted": false,
    "execution_millis": 40,
    "execution_start": 1682732194418,
    "source_hash": "18213d0a"
   },
   "outputs": [],
   "source": [
    "df['logduration'] = np.log(df['duration'])"
   ]
  },
  {
   "cell_type": "code",
   "execution_count": 79,
   "metadata": {
    "cell_id": "09f72fc4dc5847ee973ff3cf25a1a070",
    "deepnote_cell_type": "code",
    "deepnote_to_be_reexecuted": false,
    "execution_millis": 32,
    "execution_start": 1682734579939,
    "source_hash": "617ef0f2"
   },
   "outputs": [
    {
     "data": {
      "text/html": [
       "<table class=\"simpletable\">\n",
       "<caption>OLS Regression Results</caption>\n",
       "<tr>\n",
       "  <th>Dep. Variable:</th>       <td>logduration</td>   <th>  R-squared:         </th> <td>   0.176</td>\n",
       "</tr>\n",
       "<tr>\n",
       "  <th>Model:</th>                   <td>OLS</td>       <th>  Adj. R-squared:    </th> <td>   0.162</td>\n",
       "</tr>\n",
       "<tr>\n",
       "  <th>Method:</th>             <td>Least Squares</td>  <th>  F-statistic:       </th> <td>   13.05</td>\n",
       "</tr>\n",
       "<tr>\n",
       "  <th>Date:</th>             <td>Wed, 03 May 2023</td> <th>  Prob (F-statistic):</th> <td>1.19e-09</td>\n",
       "</tr>\n",
       "<tr>\n",
       "  <th>Time:</th>                 <td>16:03:16</td>     <th>  Log-Likelihood:    </th> <td>  33.773</td>\n",
       "</tr>\n",
       "<tr>\n",
       "  <th>No. Observations:</th>      <td>   250</td>      <th>  AIC:               </th> <td>  -57.55</td>\n",
       "</tr>\n",
       "<tr>\n",
       "  <th>Df Residuals:</th>          <td>   245</td>      <th>  BIC:               </th> <td>  -39.94</td>\n",
       "</tr>\n",
       "<tr>\n",
       "  <th>Df Model:</th>              <td>     4</td>      <th>                     </th>     <td> </td>   \n",
       "</tr>\n",
       "<tr>\n",
       "  <th>Covariance Type:</th>      <td>nonrobust</td>    <th>                     </th>     <td> </td>   \n",
       "</tr>\n",
       "</table>\n",
       "<table class=\"simpletable\">\n",
       "<tr>\n",
       "       <td></td>          <th>coef</th>     <th>std err</th>      <th>t</th>      <th>P>|t|</th>  <th>[0.025</th>    <th>0.975]</th>  \n",
       "</tr>\n",
       "<tr>\n",
       "  <th>Intercept</th>   <td>    3.6287</td> <td>    1.221</td> <td>    2.972</td> <td> 0.003</td> <td>    1.224</td> <td>    6.034</td>\n",
       "</tr>\n",
       "<tr>\n",
       "  <th>imbd_votes</th>  <td> 2.829e-08</td> <td> 3.05e-08</td> <td>    0.927</td> <td> 0.355</td> <td>-3.18e-08</td> <td> 8.84e-08</td>\n",
       "</tr>\n",
       "<tr>\n",
       "  <th>year</th>        <td>    0.0005</td> <td>    0.001</td> <td>    0.856</td> <td> 0.393</td> <td>   -0.001</td> <td>    0.002</td>\n",
       "</tr>\n",
       "<tr>\n",
       "  <th>cast_n</th>      <td>    0.0015</td> <td>    0.000</td> <td>    5.676</td> <td> 0.000</td> <td>    0.001</td> <td>    0.002</td>\n",
       "</tr>\n",
       "<tr>\n",
       "  <th>certificate</th> <td>    0.0521</td> <td>    0.030</td> <td>    1.729</td> <td> 0.085</td> <td>   -0.007</td> <td>    0.111</td>\n",
       "</tr>\n",
       "</table>\n",
       "<table class=\"simpletable\">\n",
       "<tr>\n",
       "  <th>Omnibus:</th>       <td> 6.309</td> <th>  Durbin-Watson:     </th> <td>   2.003</td>\n",
       "</tr>\n",
       "<tr>\n",
       "  <th>Prob(Omnibus):</th> <td> 0.043</td> <th>  Jarque-Bera (JB):  </th> <td>   8.230</td>\n",
       "</tr>\n",
       "<tr>\n",
       "  <th>Skew:</th>          <td> 0.173</td> <th>  Prob(JB):          </th> <td>  0.0163</td>\n",
       "</tr>\n",
       "<tr>\n",
       "  <th>Kurtosis:</th>      <td> 3.819</td> <th>  Cond. No.          </th> <td>7.52e+07</td>\n",
       "</tr>\n",
       "</table><br/><br/>Warnings:<br/>[1] Standard Errors assume that the covariance matrix of the errors is correctly specified.<br/>[2] The condition number is large, 7.52e+07. This might indicate that there are<br/>strong multicollinearity or other numerical problems."
      ],
      "text/plain": [
       "<class 'statsmodels.iolib.summary.Summary'>\n",
       "\"\"\"\n",
       "                            OLS Regression Results                            \n",
       "==============================================================================\n",
       "Dep. Variable:            logduration   R-squared:                       0.176\n",
       "Model:                            OLS   Adj. R-squared:                  0.162\n",
       "Method:                 Least Squares   F-statistic:                     13.05\n",
       "Date:                Wed, 03 May 2023   Prob (F-statistic):           1.19e-09\n",
       "Time:                        16:03:16   Log-Likelihood:                 33.773\n",
       "No. Observations:                 250   AIC:                            -57.55\n",
       "Df Residuals:                     245   BIC:                            -39.94\n",
       "Df Model:                           4                                         \n",
       "Covariance Type:            nonrobust                                         \n",
       "===============================================================================\n",
       "                  coef    std err          t      P>|t|      [0.025      0.975]\n",
       "-------------------------------------------------------------------------------\n",
       "Intercept       3.6287      1.221      2.972      0.003       1.224       6.034\n",
       "imbd_votes   2.829e-08   3.05e-08      0.927      0.355   -3.18e-08    8.84e-08\n",
       "year            0.0005      0.001      0.856      0.393      -0.001       0.002\n",
       "cast_n          0.0015      0.000      5.676      0.000       0.001       0.002\n",
       "certificate     0.0521      0.030      1.729      0.085      -0.007       0.111\n",
       "==============================================================================\n",
       "Omnibus:                        6.309   Durbin-Watson:                   2.003\n",
       "Prob(Omnibus):                  0.043   Jarque-Bera (JB):                8.230\n",
       "Skew:                           0.173   Prob(JB):                       0.0163\n",
       "Kurtosis:                       3.819   Cond. No.                     7.52e+07\n",
       "==============================================================================\n",
       "\n",
       "Warnings:\n",
       "[1] Standard Errors assume that the covariance matrix of the errors is correctly specified.\n",
       "[2] The condition number is large, 7.52e+07. This might indicate that there are\n",
       "strong multicollinearity or other numerical problems.\n",
       "\"\"\""
      ]
     },
     "execution_count": 79,
     "metadata": {},
     "output_type": "execute_result"
    }
   ],
   "source": [
    "newresult = smf.ols('logduration ~ imbd_votes+year+cast_n+certificate', data=df).fit()\n",
    "\n",
    "newresult.summary()"
   ]
  },
  {
   "cell_type": "code",
   "execution_count": 80,
   "metadata": {
    "cell_id": "07da72419cbe41a99e983c1ac1633fb6",
    "deepnote_cell_type": "code",
    "deepnote_to_be_reexecuted": false,
    "execution_millis": 268,
    "execution_start": 1682732194511,
    "source_hash": "7c0f615b"
   },
   "outputs": [
    {
     "data": {
      "image/png": "[encoded data removed]",
      "text/plain": [
       "<Figure size 432x288 with 1 Axes>"
      ]
     },
     "metadata": {
      "needs_background": "light"
     },
     "output_type": "display_data"
    }
   ],
   "source": [
    "sns.regplot(x=newresult.fittedvalues, y=newresult.resid, ci=None)\n",
    "\n",
    "plt.show()"
   ]
  },
  {
   "cell_type": "code",
   "execution_count": 81,
   "metadata": {
    "cell_id": "99cde2e2407c4db08cf15cef9bcac39a",
    "deepnote_cell_type": "code",
    "deepnote_to_be_reexecuted": false,
    "execution_millis": 25,
    "execution_start": 1682732194792,
    "source_hash": "6f80bef2"
   },
   "outputs": [
    {
     "data": {
      "image/png": "[encoded data removed]",
      "text/plain": [
       "<Figure size 432x288 with 1 Axes>"
      ]
     },
     "metadata": {
      "needs_background": "light"
     },
     "output_type": "display_data"
    }
   ],
   "source": [
    "# results = smf.ols('imbd_rating ~ rank+year+imbd_votes+certificate+genre+duration+self+cast_n+review_n+recent', data=df).fit()\n",
    "# results.summary()\n",
    "plt.hist(newresult.resid)\n",
    "plt.xlabel('Residuals')\n",
    "plt.show()"
   ]
  },
  {
   "cell_type": "markdown",
   "metadata": {
    "cell_id": "0800a75dd85a4fbdb565515f82a8e76d",
    "deepnote_cell_type": "code",
    "deepnote_to_be_reexecuted": false,
    "execution_millis": 55,
    "execution_start": 1682732194836,
    "source_hash": "f804c160"
   },
   "source": [
    "After the log-transformation, the scatter plot is more evenly distributed below and above the line. The histogram is also not right-skwed, and more bell-shaped than before. Therefore, we would like to say that the log-transformation was helpful in improving our assumptions."
   ]
  },
  {
   "cell_type": "markdown",
   "metadata": {
    "cell_id": "9c5b4cca6124423c8400404298b9649b",
    "deepnote_cell_type": "code",
    "deepnote_to_be_reexecuted": false,
    "execution_millis": 6,
    "execution_start": 1682732194893,
    "source_hash": "b623e53d"
   },
   "source": [
    "**iv.** Discuss what percent of variability in your response variable is explained by this model in the dataset. Is this high? Is this low?\n",
    "\n",
    "R-squared of 0.159 indicates that 15.9% of the variability in the response variable is explained by the independent variable. R-squared of 0.159 is low."
   ]
  },
  {
   "cell_type": "markdown",
   "metadata": {},
   "source": [
    "**v.** Make at least one prediction with your model.\n",
    "\n",
    "We are predicting duration of a movie with 75 cast number, with imbd votes of 600000 released in 2020 with certificate of 1 (R-rated)"
   ]
  },
  {
   "cell_type": "code",
   "execution_count": 82,
   "metadata": {},
   "outputs": [
    {
     "data": {
      "text/plain": [
       "0    131.768089\n",
       "dtype: float64"
      ]
     },
     "execution_count": 82,
     "metadata": {},
     "output_type": "execute_result"
    }
   ],
   "source": [
    "predict=newresult.predict(exog=dict(cast_n= 75, imbd_votes=600000, year=2020, certificate=1))\n",
    "np.exp(predict)"
   ]
  },
  {
   "cell_type": "markdown",
   "metadata": {},
   "source": [
    "our predicted duration is 131.768089 minutes."
   ]
  },
  {
   "cell_type": "markdown",
   "metadata": {},
   "source": [
    "**vi.** Which slopes in your model do we have sufficient evidence to suggest are non-zero in the population model? Explain your answer."
   ]
  },
  {
   "cell_type": "code",
   "execution_count": 83,
   "metadata": {},
   "outputs": [
    {
     "data": {
      "text/html": [
       "<table class=\"simpletable\">\n",
       "<tr>\n",
       "       <td></td>          <th>coef</th>     <th>std err</th>      <th>t</th>      <th>P>|t|</th>  <th>[0.025</th>    <th>0.975]</th>  \n",
       "</tr>\n",
       "<tr>\n",
       "  <th>Intercept</th>   <td>   86.5171</td> <td>  159.571</td> <td>    0.542</td> <td> 0.588</td> <td> -227.789</td> <td>  400.823</td>\n",
       "</tr>\n",
       "<tr>\n",
       "  <th>imbd_votes</th>  <td> 3.851e-06</td> <td> 3.99e-06</td> <td>    0.965</td> <td> 0.335</td> <td>-4.01e-06</td> <td> 1.17e-05</td>\n",
       "</tr>\n",
       "<tr>\n",
       "  <th>year</th>        <td>    0.0117</td> <td>    0.081</td> <td>    0.145</td> <td> 0.885</td> <td>   -0.148</td> <td>    0.171</td>\n",
       "</tr>\n",
       "<tr>\n",
       "  <th>cast_n</th>      <td>    0.1924</td> <td>    0.034</td> <td>    5.632</td> <td> 0.000</td> <td>    0.125</td> <td>    0.260</td>\n",
       "</tr>\n",
       "<tr>\n",
       "  <th>certificate</th> <td>    5.8225</td> <td>    3.938</td> <td>    1.479</td> <td> 0.141</td> <td>   -1.933</td> <td>   13.578</td>\n",
       "</tr>\n",
       "</table>"
      ],
      "text/plain": [
       "<class 'statsmodels.iolib.table.SimpleTable'>"
      ]
     },
     "execution_count": 83,
     "metadata": {},
     "output_type": "execute_result"
    }
   ],
   "source": [
    "results.summary().tables[1]"
   ]
  },
  {
   "cell_type": "code",
   "execution_count": 84,
   "metadata": {},
   "outputs": [
    {
     "data": {
      "text/plain": [
       "cast_n         4.871182e-08\n",
       "imbd_votes     3.353226e-01\n",
       "year           8.851152e-01\n",
       "certificate    1.405021e-01\n",
       "dtype: float64"
      ]
     },
     "execution_count": 84,
     "metadata": {},
     "output_type": "execute_result"
    }
   ],
   "source": [
    "results.pvalues[['cast_n','imbd_votes', 'year', 'certificate']]"
   ]
  },
  {
   "cell_type": "markdown",
   "metadata": {},
   "source": [
    "cast number, imbd_votes, year, and duration is likely to be non-zero in the population as they have p-value less than 0.05. This indicates that the coefficient of slope is statistically significant. \n",
    "\n",
    "We also conducted f-test to see if there is a linear relationship between slopes."
   ]
  },
  {
   "cell_type": "markdown",
   "metadata": {},
   "source": [
    "H0: $\\beta_1 = \\beta_2 = \\beta_3 = \\beta_4 = 0$ (No linear relationship)\n",
    "\n",
    "H1: at least one $\\beta_i != 0$ (for i = 1,2,3,4) (There is a linear relationship)"
   ]
  },
  {
   "cell_type": "code",
   "execution_count": 85,
   "metadata": {},
   "outputs": [
    {
     "name": "stdout",
     "output_type": "stream",
     "text": [
      "pvalue: 1.1935877841651177e-09\n"
     ]
    }
   ],
   "source": [
    "from scipy.stats import f\n",
    "test_stat = 13.05\n",
    "# df1 = p = 4\n",
    "# df2 = n-p-1 = 245\n",
    "\n",
    "pvalue = 1-f.cdf(test_stat, dfn = 4, dfd = 245)\n",
    "print('pvalue:', pvalue)"
   ]
  },
  {
   "cell_type": "markdown",
   "metadata": {},
   "source": [
    "Because the p-value is very small, we reject the null hypothesis and suggest that there is sufficient evidence to suggest that at least one of the four population slopes in the model predicting imbd_rate with genre, imbd_votes, year, and duration is non-zero. "
   ]
  },
  {
   "cell_type": "markdown",
   "metadata": {},
   "source": [
    "**research question:** Is there a linear relationship between imbd_rating and imbd votes, when it was released, genre, and duration? What about in the relevant population?\n",
    "\n",
    "**d.** Finally, discuss how your linear regression analysis helps answer your research question.\n"
   ]
  },
  {
   "cell_type": "markdown",
   "metadata": {},
   "source": [
    "After conducting f-test, the p value is very small, and we would like to conclude that there is a linear relationship between imbd_rating and imbd_votes, year, genre and duration. Even though the linear regression conditions are slightly not met, from the summary table, we can see that except for genre, small p-values prove the linear relationship. In relevant population, which would be all movies released in IMDB, since the sample is from the relevant population, we can say that the sample reflects the population. Therefore, the linear relationship also exists in the relevant population. \n"
   ]
  },
  {
   "cell_type": "markdown",
   "metadata": {},
   "source": [
    "5. Logistic Regression Research Question Set [20 points]\n",
    "\n",
    "a. Goal: You should pick (or make) a categorical response variable with two levels and at least four explanatory variables that you suspect might affect your response variable. Explore whether there is a linear relationship between the explanatory variables and the log-odds of the success level of the response variable, in the dataset and in the population.\n",
    "\n",
    "i. For instance, you could ask questions like: “Is there a linear relationship between the log-odds of the success level of y and x1, x2, x3, and x4 in the sample? What about in the relevant population? What explanatory variables should we include in the model to build a parsimonious model?”\n",
    "\n",
    "ii. Hint: You can create a 0/1 categorical variable from a categorical variable using the map function or from a numeric variable by modifying the code: df[‘new_cat_var’] = 1 * (df[‘num_var’] >= some_number)\n",
    "b. State your research question(s) you’d like to answer with your analysis.\n",
    "\n",
    "c. Use at least one logistic regression model to answer this question. Include the following:\n",
    "\n",
    "    i. Split your dataset into a training dataset and testing dataset.\n",
    "    ii. Starting with four (or more) explanatory variables and using your training dataset, perform a backwards elimination algorithm (using AIC or BIC) to help you find a parsimonious logistic regression model. We will discuss this during lecture in mid-April.\n",
    "    iii. Then fit your final parsimonious logistic regression model with just your training dataset.\n",
    "    iv. Show the summary output for your final logistic regression model.\n",
    "    v. Write out the logistic regression equation for your final model.\n",
    "    vi. Which slopes in your final model do we have sufficient evidence to suggest are non-zero in the population model? Explain your answer.\n",
    "    vii. Use your logistic regression model to calculate the ROC and AUC of your test dataset.\n",
    "    viii. Use your ROC to pick a good predictive probability threshold. Explain why this is a good predictive probability threshold, given your research goals.\n",
    "    ix. Use this predictive probability threshold to classify your test data. What is the false positive rate and the true positive rate of your classification of the test data? \n",
    "    \n",
    "d. Finally, discuss how your logistic regression analysis helps answer your research\n",
    "question"
   ]
  },
  {
   "cell_type": "code",
   "execution_count": 33,
   "metadata": {},
   "outputs": [
    {
     "data": {
      "text/html": [
       "<div>\n",
       "<style scoped>\n",
       "    .dataframe tbody tr th:only-of-type {\n",
       "        vertical-align: middle;\n",
       "    }\n",
       "\n",
       "    .dataframe tbody tr th {\n",
       "        vertical-align: top;\n",
       "    }\n",
       "\n",
       "    .dataframe thead th {\n",
       "        text-align: right;\n",
       "    }\n",
       "</style>\n",
       "<table border=\"1\" class=\"dataframe\">\n",
       "  <thead>\n",
       "    <tr style=\"text-align: right;\">\n",
       "      <th></th>\n",
       "      <th>rank</th>\n",
       "      <th>title</th>\n",
       "      <th>year</th>\n",
       "      <th>imbd_votes</th>\n",
       "      <th>imbd_rating</th>\n",
       "      <th>certificate</th>\n",
       "      <th>duration</th>\n",
       "      <th>genre</th>\n",
       "      <th>self</th>\n",
       "      <th>cast_n</th>\n",
       "      <th>review_n</th>\n",
       "      <th>recent</th>\n",
       "      <th>logduration</th>\n",
       "    </tr>\n",
       "  </thead>\n",
       "  <tbody>\n",
       "    <tr>\n",
       "      <th>0</th>\n",
       "      <td>1</td>\n",
       "      <td>The Shawshank Redemption</td>\n",
       "      <td>1994</td>\n",
       "      <td>2711075.0</td>\n",
       "      <td>9.3</td>\n",
       "      <td>1</td>\n",
       "      <td>142</td>\n",
       "      <td>Drama</td>\n",
       "      <td>0</td>\n",
       "      <td>73</td>\n",
       "      <td>25</td>\n",
       "      <td>False</td>\n",
       "      <td>4.955827</td>\n",
       "    </tr>\n",
       "    <tr>\n",
       "      <th>1</th>\n",
       "      <td>2</td>\n",
       "      <td>The Godfather</td>\n",
       "      <td>1972</td>\n",
       "      <td>1882829.0</td>\n",
       "      <td>9.2</td>\n",
       "      <td>1</td>\n",
       "      <td>175</td>\n",
       "      <td>Crime</td>\n",
       "      <td>0</td>\n",
       "      <td>84</td>\n",
       "      <td>25</td>\n",
       "      <td>False</td>\n",
       "      <td>5.164786</td>\n",
       "    </tr>\n",
       "    <tr>\n",
       "      <th>2</th>\n",
       "      <td>3</td>\n",
       "      <td>The Dark Knight</td>\n",
       "      <td>2008</td>\n",
       "      <td>2684051.0</td>\n",
       "      <td>9.0</td>\n",
       "      <td>0</td>\n",
       "      <td>152</td>\n",
       "      <td>Action</td>\n",
       "      <td>0</td>\n",
       "      <td>243</td>\n",
       "      <td>25</td>\n",
       "      <td>True</td>\n",
       "      <td>5.023881</td>\n",
       "    </tr>\n",
       "    <tr>\n",
       "      <th>3</th>\n",
       "      <td>4</td>\n",
       "      <td>The Godfather Part II</td>\n",
       "      <td>1974</td>\n",
       "      <td>1285350.0</td>\n",
       "      <td>9.0</td>\n",
       "      <td>1</td>\n",
       "      <td>202</td>\n",
       "      <td>Crime</td>\n",
       "      <td>0</td>\n",
       "      <td>110</td>\n",
       "      <td>25</td>\n",
       "      <td>False</td>\n",
       "      <td>5.308268</td>\n",
       "    </tr>\n",
       "    <tr>\n",
       "      <th>4</th>\n",
       "      <td>5</td>\n",
       "      <td>12 Angry Men</td>\n",
       "      <td>1957</td>\n",
       "      <td>800954.0</td>\n",
       "      <td>9.0</td>\n",
       "      <td>0</td>\n",
       "      <td>96</td>\n",
       "      <td>Crime</td>\n",
       "      <td>0</td>\n",
       "      <td>18</td>\n",
       "      <td>25</td>\n",
       "      <td>False</td>\n",
       "      <td>4.564348</td>\n",
       "    </tr>\n",
       "  </tbody>\n",
       "</table>\n",
       "</div>"
      ],
      "text/plain": [
       "   rank                     title  year  imbd_votes  imbd_rating  certificate  \\\n",
       "0     1  The Shawshank Redemption  1994   2711075.0          9.3            1   \n",
       "1     2             The Godfather  1972   1882829.0          9.2            1   \n",
       "2     3           The Dark Knight  2008   2684051.0          9.0            0   \n",
       "3     4     The Godfather Part II  1974   1285350.0          9.0            1   \n",
       "4     5              12 Angry Men  1957    800954.0          9.0            0   \n",
       "\n",
       "   duration   genre  self  cast_n  review_n  recent  logduration  \n",
       "0       142   Drama     0      73        25   False     4.955827  \n",
       "1       175   Crime     0      84        25   False     5.164786  \n",
       "2       152  Action     0     243        25    True     5.023881  \n",
       "3       202   Crime     0     110        25   False     5.308268  \n",
       "4        96   Crime     0      18        25   False     4.564348  "
      ]
     },
     "execution_count": 33,
     "metadata": {},
     "output_type": "execute_result"
    }
   ],
   "source": [
    "df.head()"
   ]
  },
  {
   "cell_type": "markdown",
   "metadata": {},
   "source": [
    "**research question:**\n",
    "“Is there a linear relationship between the log-odds of the success level of 'recent' and imbd_rating, imbd_votes, duration, and certificate? What about in the relevant population? What explanatory variables should we include in the model to build a parsimonious model?"
   ]
  },
  {
   "cell_type": "code",
   "execution_count": 86,
   "metadata": {},
   "outputs": [
    {
     "data": {
      "text/html": [
       "<div>\n",
       "<style scoped>\n",
       "    .dataframe tbody tr th:only-of-type {\n",
       "        vertical-align: middle;\n",
       "    }\n",
       "\n",
       "    .dataframe tbody tr th {\n",
       "        vertical-align: top;\n",
       "    }\n",
       "\n",
       "    .dataframe thead th {\n",
       "        text-align: right;\n",
       "    }\n",
       "</style>\n",
       "<table border=\"1\" class=\"dataframe\">\n",
       "  <thead>\n",
       "    <tr style=\"text-align: right;\">\n",
       "      <th></th>\n",
       "      <th>rank</th>\n",
       "      <th>title</th>\n",
       "      <th>year</th>\n",
       "      <th>imbd_votes</th>\n",
       "      <th>imbd_rating</th>\n",
       "      <th>certificate</th>\n",
       "      <th>duration</th>\n",
       "      <th>genre</th>\n",
       "      <th>self</th>\n",
       "      <th>cast_n</th>\n",
       "      <th>review_n</th>\n",
       "      <th>recent</th>\n",
       "      <th>logduration</th>\n",
       "      <th>y</th>\n",
       "    </tr>\n",
       "  </thead>\n",
       "  <tbody>\n",
       "    <tr>\n",
       "      <th>0</th>\n",
       "      <td>1</td>\n",
       "      <td>The Shawshank Redemption</td>\n",
       "      <td>1994</td>\n",
       "      <td>2711075.0</td>\n",
       "      <td>9.3</td>\n",
       "      <td>1</td>\n",
       "      <td>142</td>\n",
       "      <td>Drama</td>\n",
       "      <td>0</td>\n",
       "      <td>73</td>\n",
       "      <td>25</td>\n",
       "      <td>False</td>\n",
       "      <td>4.955827</td>\n",
       "      <td>0</td>\n",
       "    </tr>\n",
       "    <tr>\n",
       "      <th>1</th>\n",
       "      <td>2</td>\n",
       "      <td>The Godfather</td>\n",
       "      <td>1972</td>\n",
       "      <td>1882829.0</td>\n",
       "      <td>9.2</td>\n",
       "      <td>1</td>\n",
       "      <td>175</td>\n",
       "      <td>Crime</td>\n",
       "      <td>0</td>\n",
       "      <td>84</td>\n",
       "      <td>25</td>\n",
       "      <td>False</td>\n",
       "      <td>5.164786</td>\n",
       "      <td>0</td>\n",
       "    </tr>\n",
       "    <tr>\n",
       "      <th>2</th>\n",
       "      <td>3</td>\n",
       "      <td>The Dark Knight</td>\n",
       "      <td>2008</td>\n",
       "      <td>2684051.0</td>\n",
       "      <td>9.0</td>\n",
       "      <td>0</td>\n",
       "      <td>152</td>\n",
       "      <td>Action</td>\n",
       "      <td>0</td>\n",
       "      <td>243</td>\n",
       "      <td>25</td>\n",
       "      <td>True</td>\n",
       "      <td>5.023881</td>\n",
       "      <td>1</td>\n",
       "    </tr>\n",
       "    <tr>\n",
       "      <th>3</th>\n",
       "      <td>4</td>\n",
       "      <td>The Godfather Part II</td>\n",
       "      <td>1974</td>\n",
       "      <td>1285350.0</td>\n",
       "      <td>9.0</td>\n",
       "      <td>1</td>\n",
       "      <td>202</td>\n",
       "      <td>Crime</td>\n",
       "      <td>0</td>\n",
       "      <td>110</td>\n",
       "      <td>25</td>\n",
       "      <td>False</td>\n",
       "      <td>5.308268</td>\n",
       "      <td>0</td>\n",
       "    </tr>\n",
       "    <tr>\n",
       "      <th>4</th>\n",
       "      <td>5</td>\n",
       "      <td>12 Angry Men</td>\n",
       "      <td>1957</td>\n",
       "      <td>800954.0</td>\n",
       "      <td>9.0</td>\n",
       "      <td>0</td>\n",
       "      <td>96</td>\n",
       "      <td>Crime</td>\n",
       "      <td>0</td>\n",
       "      <td>18</td>\n",
       "      <td>25</td>\n",
       "      <td>False</td>\n",
       "      <td>4.564348</td>\n",
       "      <td>0</td>\n",
       "    </tr>\n",
       "  </tbody>\n",
       "</table>\n",
       "</div>"
      ],
      "text/plain": [
       "   rank                     title  year  imbd_votes  imbd_rating  certificate  \\\n",
       "0     1  The Shawshank Redemption  1994   2711075.0          9.3            1   \n",
       "1     2             The Godfather  1972   1882829.0          9.2            1   \n",
       "2     3           The Dark Knight  2008   2684051.0          9.0            0   \n",
       "3     4     The Godfather Part II  1974   1285350.0          9.0            1   \n",
       "4     5              12 Angry Men  1957    800954.0          9.0            0   \n",
       "\n",
       "   duration   genre  self  cast_n  review_n  recent  logduration  y  \n",
       "0       142   Drama     0      73        25   False     4.955827  0  \n",
       "1       175   Crime     0      84        25   False     5.164786  0  \n",
       "2       152  Action     0     243        25    True     5.023881  1  \n",
       "3       202   Crime     0     110        25   False     5.308268  0  \n",
       "4        96   Crime     0      18        25   False     4.564348  0  "
      ]
     },
     "execution_count": 86,
     "metadata": {},
     "output_type": "execute_result"
    }
   ],
   "source": [
    "from sklearn.model_selection import train_test_split\n",
    "\n",
    "df['y'] = df['recent'].astype(str).map({'False':0, 'True':1})\n",
    "\n",
    "df_train, df_test = train_test_split(df, test_size=0.20, random_state=123)\n",
    "\n",
    "df_train.shape[0]/df.shape[0]\n",
    "df.head()"
   ]
  },
  {
   "cell_type": "code",
   "execution_count": 87,
   "metadata": {},
   "outputs": [
    {
     "name": "stdout",
     "output_type": "stream",
     "text": [
      "Optimization terminated successfully.\n",
      "         Current function value: 0.607184\n",
      "         Iterations 5\n",
      "269.3652849276668\n"
     ]
    }
   ],
   "source": [
    "current_mod = smf.logit('y ~imbd_rating+imbd_votes+duration+certificate', data=df_train).fit()\n",
    "print(current_mod.bic)\n",
    "#goal: small BIC"
   ]
  },
  {
   "cell_type": "code",
   "execution_count": 88,
   "metadata": {},
   "outputs": [
    {
     "name": "stdout",
     "output_type": "stream",
     "text": [
      "Optimization terminated successfully.\n",
      "         Current function value: 0.633683\n",
      "         Iterations 5\n",
      "274.66645697944665\n"
     ]
    }
   ],
   "source": [
    "#delete rating\n",
    "test_mod = smf.logit('y ~imbd_votes+duration+certificate', data=df_train).fit()\n",
    "print(test_mod.bic)"
   ]
  },
  {
   "cell_type": "code",
   "execution_count": 89,
   "metadata": {},
   "outputs": [
    {
     "name": "stdout",
     "output_type": "stream",
     "text": [
      "Optimization terminated successfully.\n",
      "         Current function value: 0.651092\n",
      "         Iterations 5\n",
      "281.62993181674875\n"
     ]
    }
   ],
   "source": [
    "#delete imbd_votes\n",
    "test_mod = smf.logit('y ~imbd_rating+duration+certificate', data=df_train).fit()\n",
    "print(test_mod.bic)"
   ]
  },
  {
   "cell_type": "code",
   "execution_count": 90,
   "metadata": {},
   "outputs": [
    {
     "name": "stdout",
     "output_type": "stream",
     "text": [
      "Optimization terminated successfully.\n",
      "         Current function value: 0.611227\n",
      "         Iterations 5\n",
      "265.683874900995\n"
     ]
    }
   ],
   "source": [
    "#delete duration\n",
    "test_mod = smf.logit('y ~imbd_rating+imbd_votes+certificate', data=df_train).fit()\n",
    "print(test_mod.bic)"
   ]
  },
  {
   "cell_type": "code",
   "execution_count": 91,
   "metadata": {},
   "outputs": [
    {
     "name": "stdout",
     "output_type": "stream",
     "text": [
      "Optimization terminated successfully.\n",
      "         Current function value: 0.607219\n",
      "         Iterations 5\n",
      "264.0809716502652\n"
     ]
    }
   ],
   "source": [
    "#delete certificate\n",
    "test_mod = smf.logit('y ~imbd_rating+imbd_votes+duration', data=df_train).fit()\n",
    "print(test_mod.bic)"
   ]
  },
  {
   "cell_type": "markdown",
   "metadata": {},
   "source": [
    "Removing certificate, I have the smallest BIC."
   ]
  },
  {
   "cell_type": "code",
   "execution_count": 92,
   "metadata": {},
   "outputs": [
    {
     "name": "stdout",
     "output_type": "stream",
     "text": [
      "Optimization terminated successfully.\n",
      "         Current function value: 0.607219\n",
      "         Iterations 5\n",
      "264.0809716502652\n"
     ]
    },
    {
     "data": {
      "text/html": [
       "<div>\n",
       "<style scoped>\n",
       "    .dataframe tbody tr th:only-of-type {\n",
       "        vertical-align: middle;\n",
       "    }\n",
       "\n",
       "    .dataframe tbody tr th {\n",
       "        vertical-align: top;\n",
       "    }\n",
       "\n",
       "    .dataframe thead th {\n",
       "        text-align: right;\n",
       "    }\n",
       "</style>\n",
       "<table border=\"1\" class=\"dataframe\">\n",
       "  <thead>\n",
       "    <tr style=\"text-align: right;\">\n",
       "      <th></th>\n",
       "      <th>imbd_rating</th>\n",
       "      <th>imbd_votes</th>\n",
       "    </tr>\n",
       "  </thead>\n",
       "  <tbody>\n",
       "    <tr>\n",
       "      <th>imbd_rating</th>\n",
       "      <td>1.000000</td>\n",
       "      <td>0.603062</td>\n",
       "    </tr>\n",
       "    <tr>\n",
       "      <th>imbd_votes</th>\n",
       "      <td>0.603062</td>\n",
       "      <td>1.000000</td>\n",
       "    </tr>\n",
       "  </tbody>\n",
       "</table>\n",
       "</div>"
      ],
      "text/plain": [
       "             imbd_rating  imbd_votes\n",
       "imbd_rating     1.000000    0.603062\n",
       "imbd_votes      0.603062    1.000000"
      ]
     },
     "execution_count": 92,
     "metadata": {},
     "output_type": "execute_result"
    }
   ],
   "source": [
    "current_mod = smf.logit('y ~imbd_rating+imbd_votes+duration', data=df_train).fit()\n",
    "print(current_mod.bic)\n",
    "df[['imbd_rating', 'imbd_votes']].corr()"
   ]
  },
  {
   "cell_type": "code",
   "execution_count": 93,
   "metadata": {},
   "outputs": [
    {
     "name": "stdout",
     "output_type": "stream",
     "text": [
      "Optimization terminated successfully.\n",
      "         Current function value: 0.634002\n",
      "         Iterations 5\n",
      "269.49569889953983\n"
     ]
    }
   ],
   "source": [
    "#delete rating\n",
    "test_mod = smf.logit('y ~imbd_votes+duration', data=df_train).fit()\n",
    "print(test_mod.bic)"
   ]
  },
  {
   "cell_type": "code",
   "execution_count": 94,
   "metadata": {},
   "outputs": [
    {
     "name": "stdout",
     "output_type": "stream",
     "text": [
      "Optimization terminated successfully.\n",
      "         Current function value: 0.654519\n",
      "         Iterations 5\n",
      "277.7027465378036\n"
     ]
    }
   ],
   "source": [
    "#delete imbd_votes\n",
    "test_mod = smf.logit('y ~imbd_rating+duration', data=df_train).fit()\n",
    "print(test_mod.bic)"
   ]
  },
  {
   "cell_type": "code",
   "execution_count": 95,
   "metadata": {},
   "outputs": [
    {
     "name": "stdout",
     "output_type": "stream",
     "text": [
      "Optimization terminated successfully.\n",
      "         Current function value: 0.611314\n",
      "         Iterations 5\n",
      "260.4207462078077\n"
     ]
    }
   ],
   "source": [
    "#delete duration\n",
    "test_mod = smf.logit('y ~imbd_votes+imbd_rating', data=df_train).fit()\n",
    "print(test_mod.bic)"
   ]
  },
  {
   "cell_type": "code",
   "execution_count": 96,
   "metadata": {},
   "outputs": [
    {
     "name": "stdout",
     "output_type": "stream",
     "text": [
      "Optimization terminated successfully.\n",
      "         Current function value: 0.611314\n",
      "         Iterations 5\n",
      "260.4207462078077\n"
     ]
    }
   ],
   "source": [
    "current_mod = smf.logit('y ~imbd_votes+imbd_rating', data=df_train).fit()\n",
    "print(current_mod.bic)"
   ]
  },
  {
   "cell_type": "code",
   "execution_count": 97,
   "metadata": {},
   "outputs": [
    {
     "name": "stdout",
     "output_type": "stream",
     "text": [
      "Optimization terminated successfully.\n",
      "         Current function value: 0.658648\n",
      "         Iterations 4\n",
      "274.0559088316164\n"
     ]
    }
   ],
   "source": [
    "#delete imbd_votes\n",
    "test_mod = smf.logit('y ~imbd_rating', data=df_train).fit()\n",
    "print(test_mod.bic)"
   ]
  },
  {
   "cell_type": "markdown",
   "metadata": {},
   "source": [
    "We had the smallest BIC when our test_mod was 'y ~imbd_votes+imbd_rating'"
   ]
  },
  {
   "cell_type": "code",
   "execution_count": 98,
   "metadata": {
    "scrolled": true
   },
   "outputs": [
    {
     "name": "stdout",
     "output_type": "stream",
     "text": [
      "Optimization terminated successfully.\n",
      "         Current function value: 0.611314\n",
      "         Iterations 5\n"
     ]
    },
    {
     "data": {
      "text/html": [
       "<table class=\"simpletable\">\n",
       "<caption>Logit Regression Results</caption>\n",
       "<tr>\n",
       "  <th>Dep. Variable:</th>           <td>y</td>        <th>  No. Observations:  </th>  <td>   200</td>  \n",
       "</tr>\n",
       "<tr>\n",
       "  <th>Model:</th>                 <td>Logit</td>      <th>  Df Residuals:      </th>  <td>   197</td>  \n",
       "</tr>\n",
       "<tr>\n",
       "  <th>Method:</th>                 <td>MLE</td>       <th>  Df Model:          </th>  <td>     2</td>  \n",
       "</tr>\n",
       "<tr>\n",
       "  <th>Date:</th>            <td>Wed, 03 May 2023</td> <th>  Pseudo R-squ.:     </th>  <td>0.07230</td> \n",
       "</tr>\n",
       "<tr>\n",
       "  <th>Time:</th>                <td>16:05:10</td>     <th>  Log-Likelihood:    </th> <td> -122.26</td> \n",
       "</tr>\n",
       "<tr>\n",
       "  <th>converged:</th>             <td>True</td>       <th>  LL-Null:           </th> <td> -131.79</td> \n",
       "</tr>\n",
       "<tr>\n",
       "  <th>Covariance Type:</th>     <td>nonrobust</td>    <th>  LLR p-value:       </th> <td>7.277e-05</td>\n",
       "</tr>\n",
       "</table>\n",
       "<table class=\"simpletable\">\n",
       "<tr>\n",
       "       <td></td>          <th>coef</th>     <th>std err</th>      <th>z</th>      <th>P>|z|</th>  <th>[0.025</th>    <th>0.975]</th>  \n",
       "</tr>\n",
       "<tr>\n",
       "  <th>Intercept</th>   <td>   20.5510</td> <td>    7.354</td> <td>    2.795</td> <td> 0.005</td> <td>    6.138</td> <td>   34.964</td>\n",
       "</tr>\n",
       "<tr>\n",
       "  <th>imbd_votes</th>  <td> 1.607e-06</td> <td> 3.92e-07</td> <td>    4.103</td> <td> 0.000</td> <td> 8.39e-07</td> <td> 2.37e-06</td>\n",
       "</tr>\n",
       "<tr>\n",
       "  <th>imbd_rating</th> <td>   -2.6751</td> <td>    0.909</td> <td>   -2.943</td> <td> 0.003</td> <td>   -4.456</td> <td>   -0.894</td>\n",
       "</tr>\n",
       "</table>"
      ],
      "text/plain": [
       "<class 'statsmodels.iolib.summary.Summary'>\n",
       "\"\"\"\n",
       "                           Logit Regression Results                           \n",
       "==============================================================================\n",
       "Dep. Variable:                      y   No. Observations:                  200\n",
       "Model:                          Logit   Df Residuals:                      197\n",
       "Method:                           MLE   Df Model:                            2\n",
       "Date:                Wed, 03 May 2023   Pseudo R-squ.:                 0.07230\n",
       "Time:                        16:05:10   Log-Likelihood:                -122.26\n",
       "converged:                       True   LL-Null:                       -131.79\n",
       "Covariance Type:            nonrobust   LLR p-value:                 7.277e-05\n",
       "===============================================================================\n",
       "                  coef    std err          z      P>|z|      [0.025      0.975]\n",
       "-------------------------------------------------------------------------------\n",
       "Intercept      20.5510      7.354      2.795      0.005       6.138      34.964\n",
       "imbd_votes   1.607e-06   3.92e-07      4.103      0.000    8.39e-07    2.37e-06\n",
       "imbd_rating    -2.6751      0.909     -2.943      0.003      -4.456      -0.894\n",
       "===============================================================================\n",
       "\"\"\""
      ]
     },
     "execution_count": 98,
     "metadata": {},
     "output_type": "execute_result"
    }
   ],
   "source": [
    "final_mod = smf.logit('y ~ imbd_votes+imbd_rating', data=df_train).fit()\n",
    "final_mod.summary()"
   ]
  },
  {
   "cell_type": "markdown",
   "metadata": {},
   "source": [
    "v. Write out the logistic regression equation for your final model.\n",
    "\n",
    "y^ = 20.5510 + 1.607e-06imbd_votes -2.6751imbd_rating\n",
    "\n",
    "vi. Which slopes in your final model do we have sufficient evidence to\n",
    "suggest are non-zero in the population model? Explain your answer.\n",
    "\n",
    "- Variables imbd_votes and imbd_rating have non-zero slopes according to the summary table. They have significantly low p-values, and their confidnce interval do not contain 0."
   ]
  },
  {
   "cell_type": "markdown",
   "metadata": {},
   "source": [
    "vii. Use your logistic regression model to calculate the ROC and AUC of your\n",
    "test dataset."
   ]
  },
  {
   "cell_type": "code",
   "execution_count": 100,
   "metadata": {},
   "outputs": [],
   "source": [
    "from sklearn.metrics import confusion_matrix, roc_curve, roc_auc_score"
   ]
  },
  {
   "cell_type": "code",
   "execution_count": 102,
   "metadata": {},
   "outputs": [
    {
     "name": "stderr",
     "output_type": "stream",
     "text": [
      "<ipython-input-102-47e8fa2f29a4>:2: SettingWithCopyWarning: \n",
      "A value is trying to be set on a copy of a slice from a DataFrame.\n",
      "Try using .loc[row_indexer,col_indexer] = value instead\n",
      "\n",
      "See the caveats in the documentation: https://pandas.pydata.org/pandas-docs/stable/user_guide/indexing.html#returning-a-view-versus-a-copy\n",
      "  df_test['predictive_prob'] = pred_probabilities\n",
      "<ipython-input-102-47e8fa2f29a4>:3: SettingWithCopyWarning: \n",
      "A value is trying to be set on a copy of a slice from a DataFrame.\n",
      "Try using .loc[row_indexer,col_indexer] = value instead\n",
      "\n",
      "See the caveats in the documentation: https://pandas.pydata.org/pandas-docs/stable/user_guide/indexing.html#returning-a-view-versus-a-copy\n",
      "  df_test['yhat'] = 1 * (df_test['predictive_prob']>0.5)\n"
     ]
    },
    {
     "data": {
      "text/html": [
       "<div>\n",
       "<style scoped>\n",
       "    .dataframe tbody tr th:only-of-type {\n",
       "        vertical-align: middle;\n",
       "    }\n",
       "\n",
       "    .dataframe tbody tr th {\n",
       "        vertical-align: top;\n",
       "    }\n",
       "\n",
       "    .dataframe thead th {\n",
       "        text-align: right;\n",
       "    }\n",
       "</style>\n",
       "<table border=\"1\" class=\"dataframe\">\n",
       "  <thead>\n",
       "    <tr style=\"text-align: right;\">\n",
       "      <th></th>\n",
       "      <th>rank</th>\n",
       "      <th>title</th>\n",
       "      <th>year</th>\n",
       "      <th>imbd_votes</th>\n",
       "      <th>imbd_rating</th>\n",
       "      <th>certificate</th>\n",
       "      <th>duration</th>\n",
       "      <th>genre</th>\n",
       "      <th>self</th>\n",
       "      <th>cast_n</th>\n",
       "      <th>review_n</th>\n",
       "      <th>recent</th>\n",
       "      <th>logduration</th>\n",
       "      <th>y</th>\n",
       "      <th>predictive_prob</th>\n",
       "      <th>yhat</th>\n",
       "    </tr>\n",
       "  </thead>\n",
       "  <tbody>\n",
       "    <tr>\n",
       "      <th>127</th>\n",
       "      <td>128</td>\n",
       "      <td>The Kid</td>\n",
       "      <td>1921</td>\n",
       "      <td>128080.0</td>\n",
       "      <td>8.3</td>\n",
       "      <td>0</td>\n",
       "      <td>68</td>\n",
       "      <td>Comedy</td>\n",
       "      <td>1</td>\n",
       "      <td>68</td>\n",
       "      <td>25</td>\n",
       "      <td>False</td>\n",
       "      <td>4.219508</td>\n",
       "      <td>0</td>\n",
       "      <td>0.190540</td>\n",
       "      <td>0</td>\n",
       "    </tr>\n",
       "    <tr>\n",
       "      <th>187</th>\n",
       "      <td>188</td>\n",
       "      <td>In the Name of the Father</td>\n",
       "      <td>1993</td>\n",
       "      <td>178055.0</td>\n",
       "      <td>8.1</td>\n",
       "      <td>1</td>\n",
       "      <td>133</td>\n",
       "      <td>Biography</td>\n",
       "      <td>0</td>\n",
       "      <td>106</td>\n",
       "      <td>24</td>\n",
       "      <td>False</td>\n",
       "      <td>4.890349</td>\n",
       "      <td>0</td>\n",
       "      <td>0.303399</td>\n",
       "      <td>0</td>\n",
       "    </tr>\n",
       "    <tr>\n",
       "      <th>24</th>\n",
       "      <td>25</td>\n",
       "      <td>Interstellar</td>\n",
       "      <td>2014</td>\n",
       "      <td>1870060.0</td>\n",
       "      <td>8.6</td>\n",
       "      <td>0</td>\n",
       "      <td>169</td>\n",
       "      <td>Adventure</td>\n",
       "      <td>0</td>\n",
       "      <td>44</td>\n",
       "      <td>25</td>\n",
       "      <td>True</td>\n",
       "      <td>5.129899</td>\n",
       "      <td>1</td>\n",
       "      <td>0.634296</td>\n",
       "      <td>1</td>\n",
       "    </tr>\n",
       "    <tr>\n",
       "      <th>206</th>\n",
       "      <td>207</td>\n",
       "      <td>Tokyo Story</td>\n",
       "      <td>1953</td>\n",
       "      <td>63208.0</td>\n",
       "      <td>8.2</td>\n",
       "      <td>0</td>\n",
       "      <td>136</td>\n",
       "      <td>Drama</td>\n",
       "      <td>0</td>\n",
       "      <td>30</td>\n",
       "      <td>25</td>\n",
       "      <td>False</td>\n",
       "      <td>4.912655</td>\n",
       "      <td>0</td>\n",
       "      <td>0.216996</td>\n",
       "      <td>0</td>\n",
       "    </tr>\n",
       "    <tr>\n",
       "      <th>235</th>\n",
       "      <td>236</td>\n",
       "      <td>Amores Perros</td>\n",
       "      <td>2000</td>\n",
       "      <td>243622.0</td>\n",
       "      <td>8.1</td>\n",
       "      <td>1</td>\n",
       "      <td>154</td>\n",
       "      <td>Drama</td>\n",
       "      <td>0</td>\n",
       "      <td>46</td>\n",
       "      <td>25</td>\n",
       "      <td>True</td>\n",
       "      <td>5.036953</td>\n",
       "      <td>1</td>\n",
       "      <td>0.326121</td>\n",
       "      <td>0</td>\n",
       "    </tr>\n",
       "  </tbody>\n",
       "</table>\n",
       "</div>"
      ],
      "text/plain": [
       "     rank                      title  year  imbd_votes  imbd_rating  \\\n",
       "127   128                    The Kid  1921    128080.0          8.3   \n",
       "187   188  In the Name of the Father  1993    178055.0          8.1   \n",
       "24     25               Interstellar  2014   1870060.0          8.6   \n",
       "206   207                Tokyo Story  1953     63208.0          8.2   \n",
       "235   236              Amores Perros  2000    243622.0          8.1   \n",
       "\n",
       "     certificate  duration      genre  self  cast_n  review_n  recent  \\\n",
       "127            0        68     Comedy     1      68        25   False   \n",
       "187            1       133  Biography     0     106        24   False   \n",
       "24             0       169  Adventure     0      44        25    True   \n",
       "206            0       136      Drama     0      30        25   False   \n",
       "235            1       154      Drama     0      46        25    True   \n",
       "\n",
       "     logduration  y  predictive_prob  yhat  \n",
       "127     4.219508  0         0.190540     0  \n",
       "187     4.890349  0         0.303399     0  \n",
       "24      5.129899  1         0.634296     1  \n",
       "206     4.912655  0         0.216996     0  \n",
       "235     5.036953  1         0.326121     0  "
      ]
     },
     "execution_count": 102,
     "metadata": {},
     "output_type": "execute_result"
    }
   ],
   "source": [
    "pred_probabilities = final_mod.predict(exog = dict(df_test))\n",
    "df_test['predictive_prob'] = pred_probabilities\n",
    "df_test['yhat'] = 1 * (df_test['predictive_prob']>0.5)\n",
    "df_test.head()"
   ]
  },
  {
   "cell_type": "code",
   "execution_count": 106,
   "metadata": {},
   "outputs": [
    {
     "data": {
      "image/png": "[encoded data removed]",
      "text/plain": [
       "<Figure size 360x360 with 1 Axes>"
      ]
     },
     "metadata": {
      "needs_background": "light"
     },
     "output_type": "display_data"
    }
   ],
   "source": [
    "sns.lmplot(x='predictive_prob', y='y', data=df_test, logistic=True)\n",
    "\n",
    "plt.show()"
   ]
  },
  {
   "cell_type": "code",
   "execution_count": 107,
   "metadata": {},
   "outputs": [
    {
     "name": "stdout",
     "output_type": "stream",
     "text": [
      "0.8311688311688311\n"
     ]
    }
   ],
   "source": [
    "fprs, tprs, thresholds = roc_curve(y_true=df_test['y'], y_score=df_test['predictive_prob'])\n",
    "\n",
    "auc = roc_auc_score(y_true=df_test['y'], y_score=df_test['predictive_prob'])\n",
    "\n",
    "print(auc)"
   ]
  },
  {
   "cell_type": "code",
   "execution_count": 108,
   "metadata": {},
   "outputs": [
    {
     "data": {
      "image/png": "[encoded data removed]",
      "text/plain": [
       "<Figure size 432x288 with 1 Axes>"
      ]
     },
     "metadata": {
      "needs_background": "light"
     },
     "output_type": "display_data"
    }
   ],
   "source": [
    "def plot_roc(fpr, tpr, auc, lw=2):\n",
    "    plt.plot(fpr, tpr, color='darkorange', lw=lw,\n",
    "            label='ROC curve (area = '+str(round(auc,3))+')')\n",
    "    plt.plot([0, 1], [0, 1], color='navy', lw=lw, linestyle='' )\n",
    "    plt.xlabel('False Positive Rate')\n",
    "    plt.ylabel('True Positive Rate')\n",
    "    plt.title('ROC Curve')\n",
    "    plt.legend(loc=\"lower right\")\n",
    "    plt.show()\n",
    "plot_roc(fprs, tprs, auc)"
   ]
  },
  {
   "cell_type": "markdown",
   "metadata": {},
   "source": [
    "“Is there a linear relationship between the log-odds of the success level of 'recent' and imbd_rating, imbd_votes, duration, and certificate? What about in the relevant population? What explanatory variables should we include in the model to build a parsimonious model?\n",
    "\n",
    "viii. Use your ROC to pick a good predictive probability threshold. Explain why this is a good predictive probability threshold, given your research goals.\n",
    "\n",
    "\n",
    "According to ROC plot,we chose 0.3 as our threshold because we want to balance the true positive rate and false positive rate. Our research question to determine the 'recent'"
   ]
  },
  {
   "cell_type": "code",
   "execution_count": 109,
   "metadata": {},
   "outputs": [
    {
     "name": "stderr",
     "output_type": "stream",
     "text": [
      "<ipython-input-109-19c8d66fa1ea>:4: SettingWithCopyWarning: \n",
      "A value is trying to be set on a copy of a slice from a DataFrame.\n",
      "Try using .loc[row_indexer,col_indexer] = value instead\n",
      "\n",
      "See the caveats in the documentation: https://pandas.pydata.org/pandas-docs/stable/user_guide/indexing.html#returning-a-view-versus-a-copy\n",
      "  df_test['yhat1'] = 1 * (df_test['predictive_prob']>0.5)\n"
     ]
    },
    {
     "data": {
      "text/html": [
       "<div>\n",
       "<style scoped>\n",
       "    .dataframe tbody tr th:only-of-type {\n",
       "        vertical-align: middle;\n",
       "    }\n",
       "\n",
       "    .dataframe tbody tr th {\n",
       "        vertical-align: top;\n",
       "    }\n",
       "\n",
       "    .dataframe thead th {\n",
       "        text-align: right;\n",
       "    }\n",
       "</style>\n",
       "<table border=\"1\" class=\"dataframe\">\n",
       "  <thead>\n",
       "    <tr style=\"text-align: right;\">\n",
       "      <th></th>\n",
       "      <th>rank</th>\n",
       "      <th>title</th>\n",
       "      <th>year</th>\n",
       "      <th>imbd_votes</th>\n",
       "      <th>imbd_rating</th>\n",
       "      <th>certificate</th>\n",
       "      <th>duration</th>\n",
       "      <th>genre</th>\n",
       "      <th>self</th>\n",
       "      <th>cast_n</th>\n",
       "      <th>review_n</th>\n",
       "      <th>recent</th>\n",
       "      <th>logduration</th>\n",
       "      <th>y</th>\n",
       "      <th>predictive_prob</th>\n",
       "      <th>yhat</th>\n",
       "      <th>yhat1</th>\n",
       "    </tr>\n",
       "  </thead>\n",
       "  <tbody>\n",
       "    <tr>\n",
       "      <th>127</th>\n",
       "      <td>128</td>\n",
       "      <td>The Kid</td>\n",
       "      <td>1921</td>\n",
       "      <td>128080.0</td>\n",
       "      <td>8.3</td>\n",
       "      <td>0</td>\n",
       "      <td>68</td>\n",
       "      <td>Comedy</td>\n",
       "      <td>1</td>\n",
       "      <td>68</td>\n",
       "      <td>25</td>\n",
       "      <td>False</td>\n",
       "      <td>4.219508</td>\n",
       "      <td>0</td>\n",
       "      <td>0.190540</td>\n",
       "      <td>0</td>\n",
       "      <td>0</td>\n",
       "    </tr>\n",
       "    <tr>\n",
       "      <th>187</th>\n",
       "      <td>188</td>\n",
       "      <td>In the Name of the Father</td>\n",
       "      <td>1993</td>\n",
       "      <td>178055.0</td>\n",
       "      <td>8.1</td>\n",
       "      <td>1</td>\n",
       "      <td>133</td>\n",
       "      <td>Biography</td>\n",
       "      <td>0</td>\n",
       "      <td>106</td>\n",
       "      <td>24</td>\n",
       "      <td>False</td>\n",
       "      <td>4.890349</td>\n",
       "      <td>0</td>\n",
       "      <td>0.303399</td>\n",
       "      <td>0</td>\n",
       "      <td>0</td>\n",
       "    </tr>\n",
       "    <tr>\n",
       "      <th>24</th>\n",
       "      <td>25</td>\n",
       "      <td>Interstellar</td>\n",
       "      <td>2014</td>\n",
       "      <td>1870060.0</td>\n",
       "      <td>8.6</td>\n",
       "      <td>0</td>\n",
       "      <td>169</td>\n",
       "      <td>Adventure</td>\n",
       "      <td>0</td>\n",
       "      <td>44</td>\n",
       "      <td>25</td>\n",
       "      <td>True</td>\n",
       "      <td>5.129899</td>\n",
       "      <td>1</td>\n",
       "      <td>0.634296</td>\n",
       "      <td>1</td>\n",
       "      <td>1</td>\n",
       "    </tr>\n",
       "    <tr>\n",
       "      <th>206</th>\n",
       "      <td>207</td>\n",
       "      <td>Tokyo Story</td>\n",
       "      <td>1953</td>\n",
       "      <td>63208.0</td>\n",
       "      <td>8.2</td>\n",
       "      <td>0</td>\n",
       "      <td>136</td>\n",
       "      <td>Drama</td>\n",
       "      <td>0</td>\n",
       "      <td>30</td>\n",
       "      <td>25</td>\n",
       "      <td>False</td>\n",
       "      <td>4.912655</td>\n",
       "      <td>0</td>\n",
       "      <td>0.216996</td>\n",
       "      <td>0</td>\n",
       "      <td>0</td>\n",
       "    </tr>\n",
       "    <tr>\n",
       "      <th>235</th>\n",
       "      <td>236</td>\n",
       "      <td>Amores Perros</td>\n",
       "      <td>2000</td>\n",
       "      <td>243622.0</td>\n",
       "      <td>8.1</td>\n",
       "      <td>1</td>\n",
       "      <td>154</td>\n",
       "      <td>Drama</td>\n",
       "      <td>0</td>\n",
       "      <td>46</td>\n",
       "      <td>25</td>\n",
       "      <td>True</td>\n",
       "      <td>5.036953</td>\n",
       "      <td>1</td>\n",
       "      <td>0.326121</td>\n",
       "      <td>0</td>\n",
       "      <td>0</td>\n",
       "    </tr>\n",
       "  </tbody>\n",
       "</table>\n",
       "</div>"
      ],
      "text/plain": [
       "     rank                      title  year  imbd_votes  imbd_rating  \\\n",
       "127   128                    The Kid  1921    128080.0          8.3   \n",
       "187   188  In the Name of the Father  1993    178055.0          8.1   \n",
       "24     25               Interstellar  2014   1870060.0          8.6   \n",
       "206   207                Tokyo Story  1953     63208.0          8.2   \n",
       "235   236              Amores Perros  2000    243622.0          8.1   \n",
       "\n",
       "     certificate  duration      genre  self  cast_n  review_n  recent  \\\n",
       "127            0        68     Comedy     1      68        25   False   \n",
       "187            1       133  Biography     0     106        24   False   \n",
       "24             0       169  Adventure     0      44        25    True   \n",
       "206            0       136      Drama     0      30        25   False   \n",
       "235            1       154      Drama     0      46        25    True   \n",
       "\n",
       "     logduration  y  predictive_prob  yhat  yhat1  \n",
       "127     4.219508  0         0.190540     0      0  \n",
       "187     4.890349  0         0.303399     0      0  \n",
       "24      5.129899  1         0.634296     1      1  \n",
       "206     4.912655  0         0.216996     0      0  \n",
       "235     5.036953  1         0.326121     0      0  "
      ]
     },
     "execution_count": 109,
     "metadata": {},
     "output_type": "execute_result"
    }
   ],
   "source": [
    "from sklearn.metrics import confusion_matrix, roc_curve, roc_auc_score\n",
    "\n",
    "\n",
    "df_test['yhat1'] = 1 * (df_test['predictive_prob']>0.5)\n",
    "df_test.head()"
   ]
  },
  {
   "cell_type": "code",
   "execution_count": 110,
   "metadata": {},
   "outputs": [
    {
     "data": {
      "text/plain": [
       "array([[27,  1],\n",
       "       [16,  6]], dtype=int64)"
      ]
     },
     "execution_count": 110,
     "metadata": {},
     "output_type": "execute_result"
    }
   ],
   "source": [
    "confusion_matrix(y_true = df_test['y'], y_pred=df_test['yhat1'])"
   ]
  },
  {
   "cell_type": "code",
   "execution_count": 111,
   "metadata": {},
   "outputs": [
    {
     "data": {
      "text/plain": [
       "(27, 1, 16, 6)"
      ]
     },
     "execution_count": 111,
     "metadata": {},
     "output_type": "execute_result"
    }
   ],
   "source": [
    "tn, fp, fn, tp = confusion_matrix(y_true=df_test['y'],\n",
    "y_pred=df_test['yhat1']).ravel()\n",
    "(tn, fp, fn, tp)"
   ]
  },
  {
   "cell_type": "code",
   "execution_count": 112,
   "metadata": {},
   "outputs": [
    {
     "name": "stdout",
     "output_type": "stream",
     "text": [
      "sensitivity: 0.2727272727272727\n"
     ]
    }
   ],
   "source": [
    "sensitivity=tp/(tp+fn)\n",
    "print('sensitivity:', sensitivity)"
   ]
  },
  {
   "cell_type": "code",
   "execution_count": 113,
   "metadata": {},
   "outputs": [
    {
     "name": "stdout",
     "output_type": "stream",
     "text": [
      "specificity: 0.9642857142857143\n"
     ]
    }
   ],
   "source": [
    "specificity=tn/(tn+fp)\n",
    "print('specificity:', specificity)"
   ]
  },
  {
   "cell_type": "code",
   "execution_count": 114,
   "metadata": {},
   "outputs": [
    {
     "name": "stdout",
     "output_type": "stream",
     "text": [
      "false positive rate: 0.03571428571428571\n"
     ]
    }
   ],
   "source": [
    "false_positive_rate=fp/(tn+fp)\n",
    "print('false positive rate:', false_positive_rate)"
   ]
  },
  {
   "cell_type": "markdown",
   "metadata": {},
   "source": [
    "ix. Use this predictive probability threshold to classify your test data. What is the false positive rate and the true positive rate of your classification of the test data?"
   ]
  },
  {
   "cell_type": "markdown",
   "metadata": {},
   "source": [
    "“Is there a linear relationship between the log-odds of the success level of 'recent' and imbd_rating, imbd_votes, duration, and certificate? What about in the relevant population? What explanatory variables should we include in the model to build a parsimonious model?"
   ]
  },
  {
   "cell_type": "code",
   "execution_count": null,
   "metadata": {},
   "outputs": [],
   "source": []
  },
  {
   "cell_type": "markdown",
   "metadata": {},
   "source": [
    "**6. Conclusion**\n",
    "- Analyzing the dataset, we had few different research questions. For descriptive analytics, we wondered if there is a relationship between the duration of movies and the number of votes. In addition, we wondered if the duration and the number of votes change based on whether movies are released recently or not. Through analyzing visualization and summary statistics, there was a positive relationship between duration and the number of votes, and mean duration was longer for recently created movies. For interfence research, we wondered if there is a difference between duration by whether movie is only for adult or not. Through simulation study an hypothesis testing, we found out that there is no significant evidence to conclude there is a difference in durations. For linear regression, we tried to find out whether ther is a linear relationship between duration and other variables. After creating linear model with four suspect variables which are the number of votes, year, the number of casts, and certificate. Analyzing the model summary table and F-statistics, even though assumptions are not perfectly met, we could conclude that at least one of four variables have linear relationship with the duration of movies. Therefore, the linear relationship also exists in the relevant population. Lastly, for the logistic regression, our research question was to find out what variables have sufficient relationships to predict whether the movie is created recently (after 2000) or not. By creating initial model and conducting backward elimination, we have generated our final model. Then by analyzing ROC curve, we set a threshold to make our final predictions. we could find out that the number of votes and ratings of movies have significant relationship with log odds of success to predict whether the movie is created after 2000. \n",
    "- Future work: If I conduct future work based on these analyses, I want to create more variables from the original data set that can be helpful to analyze what features represents good movies with high user ratings."
   ]
  }
 ],
 "metadata": {
  "deepnote": {},
  "deepnote_execution_queue": [],
  "deepnote_notebook_id": "9709994f525c42e386d7f7b629df9cb8",
  "deepnote_persisted_session": {
   "createdAt": "2023-04-29T02:16:31.780Z"
  },
  "kernelspec": {
   "display_name": "Python 3",
   "language": "python",
   "name": "python3"
  },
  "language_info": {
   "codemirror_mode": {
    "name": "ipython",
    "version": 3
   },
   "file_extension": ".py",
   "mimetype": "text/x-python",
   "name": "python",
   "nbconvert_exporter": "python",
   "pygments_lexer": "ipython3",
   "version": "3.8.3"
  }
 },
 "nbformat": 4,
 "nbformat_minor": 1
}
