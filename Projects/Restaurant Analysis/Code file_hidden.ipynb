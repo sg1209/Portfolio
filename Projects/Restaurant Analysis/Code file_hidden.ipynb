{
 "cells": [
  {
   "cell_type": "markdown",
   "metadata": {
    "id": "kE_y8P1PmWmH"
   },
   "source": [
    "***Yelp Data Analysis_code file_hidden***"
   ]
  },
  {
   "cell_type": "code",
   "execution_count": null,
   "metadata": {
    "colab": {
     "base_uri": "https://localhost:8080/"
    },
    "id": "UBGHfftGbWwn",
    "outputId": "7553f375-bd4c-4b0f-9377-a1460c9d03a5"
   },
   "outputs": [],
   "source": [
    "import pandas as pd\n",
    "import numpy as np\n",
    "import json\n",
    "from google.colab import drive\n",
    "drive.mount('/content/gdrive')"
   ]
  },
  {
   "cell_type": "code",
   "execution_count": null,
   "metadata": {
    "colab": {
     "base_uri": "https://localhost:8080/"
    },
    "id": "qHNpiA99f8KN",
    "outputId": "5c4130b6-eba3-4cd2-c007-96584d392d24"
   },
   "outputs": [],
   "source": [
    "%cd /content/gdrive/MyDrive"
   ]
  },
  {
   "cell_type": "code",
   "execution_count": null,
   "metadata": {
    "id": "SU3siMhocPP0"
   },
   "outputs": [],
   "source": [
    "#Business\n",
    "business_df = pd.read_json(\"\", lines=True)"
   ]
  },
  {
   "cell_type": "code",
   "execution_count": null,
   "metadata": {
    "id": "TyN0zToKg1Uh"
   },
   "outputs": [],
   "source": [
    "#Checkin\n",
    "checkin_df = pd.read_json(\"\", lines=True)"
   ]
  },
  {
   "cell_type": "code",
   "execution_count": null,
   "metadata": {
    "id": "N20w60cA3jii"
   },
   "outputs": [],
   "source": [
    "#Review (Too big so load 200000 rows for EDA)\n",
    "review = []\n",
    "with open('') as data_file:\n",
    "    for i, line in enumerate(data_file):\n",
    "        review.append(json.loads(line))\n",
    "        if i+1 >= 200000:\n",
    "            break\n",
    "review_df = pd.DataFrame(review)"
   ]
  },
  {
   "cell_type": "code",
   "execution_count": null,
   "metadata": {
    "id": "lmhdNDB83l5T"
   },
   "outputs": [],
   "source": [
    "#Tip\n",
    "tip_df = pd.read_json(\"\", lines=True)"
   ]
  },
  {
   "cell_type": "code",
   "execution_count": null,
   "metadata": {
    "id": "ooxgmSeR3nB7"
   },
   "outputs": [],
   "source": [
    "#User (Too big so load 200000 rows for EDA)\n",
    "data = []\n",
    "with open('') as data_file:\n",
    "    for i, line in enumerate(data_file):\n",
    "        data.append(json.loads(line))\n",
    "        if i+1 >= 200000:\n",
    "            break\n",
    "user_df = pd.DataFrame(data)"
   ]
  },
  {
   "cell_type": "markdown",
   "metadata": {
    "id": "phlQ0KOPgDO0"
   },
   "source": [
    "***EDA for Business_df***"
   ]
  },
  {
   "cell_type": "code",
   "execution_count": null,
   "metadata": {
    "colab": {
     "base_uri": "https://localhost:8080/",
     "height": 293
    },
    "id": "-jW1SZif70Cv",
    "outputId": "a5425f2f-3f07-453d-e14d-cdfa0d59ac79"
   },
   "outputs": [],
   "source": [
    "business_df.head(5)"
   ]
  },
  {
   "cell_type": "code",
   "execution_count": null,
   "metadata": {
    "colab": {
     "base_uri": "https://localhost:8080/"
    },
    "id": "Z5fRZI_n8SPf",
    "outputId": "feb424bd-caaf-4333-975e-a603650ec966"
   },
   "outputs": [],
   "source": [
    "business_df.shape"
   ]
  },
  {
   "cell_type": "code",
   "execution_count": null,
   "metadata": {
    "colab": {
     "base_uri": "https://localhost:8080/"
    },
    "id": "p8qFUtvm_Wzd",
    "outputId": "4c1cba60-4b2b-49d3-807d-1bde98774759"
   },
   "outputs": [],
   "source": [
    "business_df.isna().sum()"
   ]
  },
  {
   "cell_type": "code",
   "execution_count": null,
   "metadata": {
    "colab": {
     "base_uri": "https://localhost:8080/"
    },
    "id": "QoJStSF-AJw1",
    "outputId": "f94ffaa6-12c6-40fb-e0e7-e24202d1c94c"
   },
   "outputs": [],
   "source": [
    "business_df.dtypes"
   ]
  },
  {
   "cell_type": "code",
   "execution_count": null,
   "metadata": {
    "colab": {
     "base_uri": "https://localhost:8080/"
    },
    "id": "5Uc5dLNyAys6",
    "outputId": "0ab70cd3-8f0f-428b-f1c7-7051720fc44d"
   },
   "outputs": [],
   "source": [
    "print(\"Number of Different cities:\", len(business_df[\"city\"].unique()))\n",
    "print(\"Number of Different states:\", len(business_df[\"state\"].unique()))\n",
    "print(\"Range of latitude: \" ,business_df[\"latitude\"].min(), business_df[\"latitude\"].max())\n",
    "print(\"Range of longitude: \" ,business_df[\"longitude\"].min(), business_df[\"longitude\"].max())\n",
    "print(\"Range of stars: \", business_df[\"stars\"].min(), business_df[\"stars\"].max())\n",
    "print(\"Range of the number of reviews: \", business_df[\"review_count\"].min(), business_df[\"review_count\"].max())\n",
    "print(\"is_open: \", business_df[\"is_open\"].unique())"
   ]
  },
  {
   "cell_type": "code",
   "execution_count": null,
   "metadata": {
    "colab": {
     "base_uri": "https://localhost:8080/"
    },
    "id": "suVl8CGaDLK_",
    "outputId": "f6eb2f3c-6632-4b1e-f893-cc80d30adad9"
   },
   "outputs": [],
   "source": [
    "att = list(enumerate(business_df[\"attributes\"]))\n",
    "atts = []\n",
    "for i in range(len(att)):\n",
    "  atts.append(att[i][1])\n",
    "att_df = pd.json_normalize(atts)\n",
    "att_df.shape"
   ]
  },
  {
   "cell_type": "code",
   "execution_count": null,
   "metadata": {
    "id": "REwSca68Kx-h"
   },
   "outputs": [],
   "source": [
    "att_df = pd.concat([business_df[[\"business_id\"]], att_df], axis = 1)\n",
    "att_df[\"ID\"] = range(len(att_df))"
   ]
  },
  {
   "cell_type": "code",
   "execution_count": null,
   "metadata": {
    "colab": {
     "base_uri": "https://localhost:8080/",
     "height": 256
    },
    "id": "rI60WmxM2nZj",
    "outputId": "8fcb7d0c-b2c0-4105-a9d3-fcff15eebadf"
   },
   "outputs": [],
   "source": [
    "att_df.head(5)"
   ]
  },
  {
   "cell_type": "code",
   "execution_count": null,
   "metadata": {
    "id": "D1gSSd2IUtzB"
   },
   "outputs": [],
   "source": [
    "#Business Categories\n",
    "def str_list(string):\n",
    "  if pd.isna(string):\n",
    "    return []\n",
    "  else:\n",
    "    return string.split(\", \")\n",
    "\n",
    "cat = business_df[\"categories\"].apply(str_list)\n",
    "cat_list = []\n",
    "for i in range(len(cat)):\n",
    "  if len(cat[i]) == 0:\n",
    "    cat_list = cat_list\n",
    "  else:\n",
    "    for j in range(len(cat[i])):\n",
    "      cat_list.append(cat[i][j])"
   ]
  },
  {
   "cell_type": "code",
   "execution_count": null,
   "metadata": {
    "colab": {
     "base_uri": "https://localhost:8080/"
    },
    "id": "AXtYaL9Legwb",
    "outputId": "62b018e8-eadf-451a-cd4b-5dafed385f06"
   },
   "outputs": [],
   "source": [
    "pd.Series(cat_list).value_counts()"
   ]
  },
  {
   "cell_type": "code",
   "execution_count": null,
   "metadata": {
    "colab": {
     "base_uri": "https://localhost:8080/",
     "height": 363
    },
    "id": "kA7FegeVMZ3a",
    "outputId": "2560c23c-126e-4f9a-9ca7-770be8d6f269"
   },
   "outputs": [],
   "source": [
    "#category_df\n",
    "cat_df = business_df[[\"business_id\", \"categories\"]]\n",
    "category_df = (cat_df.assign(categories=cat_df['categories'].str.split(','))\n",
    "       .explode('categories', ignore_index=True))\n",
    "category_df.head(10)"
   ]
  },
  {
   "cell_type": "code",
   "execution_count": null,
   "metadata": {
    "colab": {
     "base_uri": "https://localhost:8080/",
     "height": 363
    },
    "id": "YDseZTKxz6qn",
    "outputId": "8486ab28-3c33-4197-8a02-fb126e564385"
   },
   "outputs": [],
   "source": [
    "category_df[\"ID\"] = range(len(category_df))\n",
    "category_df.head(10)"
   ]
  },
  {
   "cell_type": "code",
   "execution_count": null,
   "metadata": {
    "colab": {
     "base_uri": "https://localhost:8080/",
     "height": 363
    },
    "id": "87XgDf-zevxx",
    "outputId": "bc148c2d-2682-4d13-d0c6-71c743b658e8"
   },
   "outputs": [],
   "source": [
    "#Create hour table\n",
    "hour = list(enumerate(business_df[\"hours\"]))\n",
    "hour_list = []\n",
    "for i in range(len(hour)):\n",
    "  hour_list.append(hour[i][1])\n",
    "hour_df = pd.json_normalize(hour_list)\n",
    "hour_df.head(10)"
   ]
  },
  {
   "cell_type": "code",
   "execution_count": null,
   "metadata": {
    "id": "PA1erM7LIw3M"
   },
   "outputs": [],
   "source": [
    "hours_df = pd.concat([business_df[[\"business_id\"]], hour_df], axis = 1)\n",
    "hours_df[\"ID\"] = range(len(hours_df))"
   ]
  },
  {
   "cell_type": "code",
   "execution_count": null,
   "metadata": {
    "id": "Il7RhA6x_1iO"
   },
   "outputs": [],
   "source": [
    "business_df = business_df.drop([\"attributes\", \"categories\", \"hours\"], axis = 1)"
   ]
  },
  {
   "cell_type": "code",
   "execution_count": null,
   "metadata": {
    "colab": {
     "base_uri": "https://localhost:8080/",
     "height": 417
    },
    "id": "b56wsGgVAKRj",
    "outputId": "348183a1-d638-4360-b2af-09183dec7e7e"
   },
   "outputs": [],
   "source": [
    "business_df.head(5)\n"
   ]
  },
  {
   "cell_type": "markdown",
   "metadata": {
    "id": "YqQaqmPf79uD"
   },
   "source": [
    "***Business Table***\n",
    "\n",
    "\n",
    "Description     "
   ]
  },
  {
   "cell_type": "markdown",
   "metadata": {
    "id": "HBrsiZSDgOln"
   },
   "source": [
    "***EDA for checkin***"
   ]
  },
  {
   "cell_type": "code",
   "execution_count": null,
   "metadata": {
    "colab": {
     "base_uri": "https://localhost:8080/",
     "height": 363
    },
    "id": "ZPJoo-eGgTvO",
    "outputId": "3508796a-30d0-4963-c0a7-f046e8853000"
   },
   "outputs": [],
   "source": [
    "checkin_df.head(10)"
   ]
  },
  {
   "cell_type": "code",
   "execution_count": null,
   "metadata": {
    "colab": {
     "base_uri": "https://localhost:8080/"
    },
    "id": "5Vi6SKithkcC",
    "outputId": "59871d78-6830-4d65-8d73-009efab248ed"
   },
   "outputs": [],
   "source": [
    "checkin_df.shape"
   ]
  },
  {
   "cell_type": "code",
   "execution_count": null,
   "metadata": {
    "colab": {
     "base_uri": "https://localhost:8080/"
    },
    "id": "33FojJStjcr3",
    "outputId": "b48ba892-27ba-431d-a577-859974a48514"
   },
   "outputs": [],
   "source": [
    "checkin_df.isna().sum()"
   ]
  },
  {
   "cell_type": "code",
   "execution_count": null,
   "metadata": {
    "colab": {
     "base_uri": "https://localhost:8080/",
     "height": 36
    },
    "id": "HsF5qxGhgaNZ",
    "outputId": "2c4e2375-8ed4-4683-85fb-07a7269cf596"
   },
   "outputs": [],
   "source": [
    "checkin_df[\"date\"][1]"
   ]
  },
  {
   "cell_type": "code",
   "execution_count": null,
   "metadata": {
    "colab": {
     "base_uri": "https://localhost:8080/",
     "height": 363
    },
    "id": "T2OqNdKth6ya",
    "outputId": "32859b39-8dd5-424b-f8a4-e0f52256fd61"
   },
   "outputs": [],
   "source": [
    "c_df = checkin_df.copy()\n",
    "c_df[\"date\"] = c_df[\"date\"].apply(str_list)\n",
    "c_df[\"date_len\"] = c_df[\"date\"].apply(len)\n",
    "c_df.head(10)"
   ]
  },
  {
   "cell_type": "code",
   "execution_count": null,
   "metadata": {
    "colab": {
     "base_uri": "https://localhost:8080/"
    },
    "id": "F4Z_hLLQjI4g",
    "outputId": "d97db59a-8739-4867-e616-be0c3d37797d"
   },
   "outputs": [],
   "source": [
    "print(min(c_df[\"date_len\"]), max(c_df[\"date_len\"]))"
   ]
  },
  {
   "cell_type": "code",
   "execution_count": null,
   "metadata": {
    "id": "mvSjpAixJdFE"
   },
   "outputs": [],
   "source": [
    "checkin_df = (checkin_df.assign(date=checkin_df['date'].str.split(','))\n",
    "       .explode('date', ignore_index=True))"
   ]
  },
  {
   "cell_type": "code",
   "execution_count": null,
   "metadata": {
    "id": "CQD22iv_JjAw"
   },
   "outputs": [],
   "source": [
    "checkin_df = checkin_df[:300000]"
   ]
  },
  {
   "cell_type": "code",
   "execution_count": null,
   "metadata": {
    "colab": {
     "base_uri": "https://localhost:8080/",
     "height": 206
    },
    "id": "6QHjOpRc4Vdw",
    "outputId": "3150656a-2f7e-4a4a-a1f9-748bcd2f29a4"
   },
   "outputs": [],
   "source": [
    "checkin_df[\"ID\"] = range(len(checkin_df))\n",
    "checkin_df.head(5)"
   ]
  },
  {
   "cell_type": "markdown",
   "metadata": {
    "id": "TIefAUg3ghqG"
   },
   "source": [
    "***Checkin Table***\n",
    "\n",
    "Description "
   ]
  },
  {
   "cell_type": "markdown",
   "metadata": {
    "id": "1zZdMvNIhHVH"
   },
   "source": [
    "***EDA for Tip Table***"
   ]
  },
  {
   "cell_type": "code",
   "execution_count": null,
   "metadata": {
    "colab": {
     "base_uri": "https://localhost:8080/",
     "height": 293
    },
    "id": "aRdBFxfdgyLI",
    "outputId": "8f4c2365-cda8-4a36-a19c-fa7331009a27"
   },
   "outputs": [],
   "source": [
    "tip_df.head(5)"
   ]
  },
  {
   "cell_type": "code",
   "execution_count": null,
   "metadata": {
    "colab": {
     "base_uri": "https://localhost:8080/"
    },
    "id": "5z4WabK0j6kJ",
    "outputId": "ccc5270c-27c0-48f3-be04-bc90a9a0d099"
   },
   "outputs": [],
   "source": [
    "tip_df.shape"
   ]
  },
  {
   "cell_type": "code",
   "execution_count": null,
   "metadata": {
    "colab": {
     "base_uri": "https://localhost:8080/"
    },
    "id": "-zZC4V0Yl0Cc",
    "outputId": "2fdd6ab1-cc19-445a-dfad-a139fa09b00a"
   },
   "outputs": [],
   "source": [
    "tip_df.dtypes"
   ]
  },
  {
   "cell_type": "code",
   "execution_count": null,
   "metadata": {
    "colab": {
     "base_uri": "https://localhost:8080/"
    },
    "id": "tBi4DWbIkTMU",
    "outputId": "10f699e8-c61e-4ca0-b8d6-c8617748781d"
   },
   "outputs": [],
   "source": [
    "tip_df.isna().sum()"
   ]
  },
  {
   "cell_type": "code",
   "execution_count": null,
   "metadata": {
    "colab": {
     "base_uri": "https://localhost:8080/"
    },
    "id": "nH3i-hJQj3VB",
    "outputId": "26cc6190-12ea-4369-fac6-e583d9272725"
   },
   "outputs": [],
   "source": [
    "len(tip_df[\"business_id\"].unique())"
   ]
  },
  {
   "cell_type": "code",
   "execution_count": null,
   "metadata": {
    "colab": {
     "base_uri": "https://localhost:8080/"
    },
    "id": "8rSW6uyckkrI",
    "outputId": "21212a17-8ab6-46ba-d573-cd229135280c"
   },
   "outputs": [],
   "source": [
    "print(min(tip_df[\"date\"]))\n",
    "print(max(tip_df[\"date\"]))"
   ]
  },
  {
   "cell_type": "code",
   "execution_count": null,
   "metadata": {
    "colab": {
     "base_uri": "https://localhost:8080/"
    },
    "id": "0Qn1HpgPk4uM",
    "outputId": "d5a2c767-ab43-4ace-d327-963a25ba998d"
   },
   "outputs": [],
   "source": [
    "tip_df[\"compliment_count\"].unique()"
   ]
  },
  {
   "cell_type": "code",
   "execution_count": null,
   "metadata": {
    "id": "pvD1gXuI-PBT"
   },
   "outputs": [],
   "source": [
    "tip_df[\"ID\"] = range(len(tip_df))"
   ]
  },
  {
   "cell_type": "markdown",
   "metadata": {
    "id": "OH00alIWjkea"
   },
   "source": [
    "***Tip Table***\n",
    "\n",
    "Description "
   ]
  },
  {
   "cell_type": "markdown",
   "metadata": {
    "id": "lw6LoiN8ix4h"
   },
   "source": [
    "***EDA for User Table***"
   ]
  },
  {
   "cell_type": "code",
   "execution_count": null,
   "metadata": {
    "colab": {
     "base_uri": "https://localhost:8080/"
    },
    "id": "ivkqsjcwi4P1",
    "outputId": "06fccfb6-43b7-4dda-891b-ebb2d8549f49"
   },
   "outputs": [],
   "source": [
    "user_df.dtypes"
   ]
  },
  {
   "cell_type": "code",
   "execution_count": null,
   "metadata": {
    "colab": {
     "base_uri": "https://localhost:8080/"
    },
    "id": "nUCNaavnjRMm",
    "outputId": "7afd4e52-8636-4fcf-95c6-42dda1ac32cb"
   },
   "outputs": [],
   "source": [
    "user_df.shape"
   ]
  },
  {
   "cell_type": "code",
   "execution_count": null,
   "metadata": {
    "colab": {
     "base_uri": "https://localhost:8080/",
     "height": 444
    },
    "id": "E0FZXlhOi-W-",
    "outputId": "542a8563-c08c-4e10-f2cf-69cc4148fb97"
   },
   "outputs": [],
   "source": [
    "#seperate compliment df\n",
    "comp_df = pd.concat([user_df.iloc[:, 0 ], user_df.iloc[:, 11:21]] , axis = 1)\n",
    "comp_df"
   ]
  },
  {
   "cell_type": "markdown",
   "metadata": {
    "id": "SZrmv4FtkEtd"
   },
   "source": [
    "***Compliment Summary***\n",
    "1-to-1 w/ user table by user_id"
   ]
  },
  {
   "cell_type": "code",
   "execution_count": null,
   "metadata": {
    "colab": {
     "base_uri": "https://localhost:8080/"
    },
    "id": "oXc74Nm8kDDt",
    "outputId": "79444570-4374-42a4-8184-a2c8fd97d07f"
   },
   "outputs": [],
   "source": [
    "#Maximum values\n",
    "comp_df.apply(max)"
   ]
  },
  {
   "cell_type": "code",
   "execution_count": null,
   "metadata": {
    "colab": {
     "base_uri": "https://localhost:8080/"
    },
    "id": "kBSYu77BkW41",
    "outputId": "fbd62df7-864e-4011-aaf0-a1e41b93b9a0"
   },
   "outputs": [],
   "source": [
    "#Minimum values\n",
    "comp_df.apply(min)"
   ]
  },
  {
   "cell_type": "code",
   "execution_count": null,
   "metadata": {
    "colab": {
     "base_uri": "https://localhost:8080/"
    },
    "id": "KjXtXm5hkanV",
    "outputId": "e85f043b-550a-4818-cc97-cb2b397e24a2"
   },
   "outputs": [],
   "source": [
    "#NA?\n",
    "comp_df.isna().sum()"
   ]
  },
  {
   "cell_type": "code",
   "execution_count": null,
   "metadata": {
    "colab": {
     "base_uri": "https://localhost:8080/",
     "height": 313
    },
    "id": "sYOrlCzEjU49",
    "outputId": "2376635d-3022-468c-9c40-809978f6a454"
   },
   "outputs": [],
   "source": [
    "#User_df w/o compliment\n",
    "user_df2 = user_df.iloc[ :, 0:10]\n",
    "user_df2.head(5)"
   ]
  },
  {
   "cell_type": "code",
   "execution_count": null,
   "metadata": {
    "colab": {
     "base_uri": "https://localhost:8080/"
    },
    "id": "2eh3OCB7jkW3",
    "outputId": "56fbd891-7637-4f18-b685-7303412b333f"
   },
   "outputs": [],
   "source": [
    "print(\"Range of review count\", min(user_df2[\"review_count\"]), max(user_df2[\"review_count\"]))\n",
    "print(\"Range of yelping_since\", min(user_df2[\"yelping_since\"]), max(user_df2[\"yelping_since\"]))\n",
    "print(\"Range of useful\", min(user_df2[\"useful\"]), max(user_df2[\"useful\"]))\n",
    "print(\"Range of funny\", min(user_df2[\"funny\"]), max(user_df2[\"funny\"]))\n",
    "print(\"Range of cool\", min(user_df2[\"cool\"]), max(user_df2[\"cool\"]))\n",
    "print(\"Range of fans\", min(user_df2[\"fans\"]), max(user_df2[\"fans\"]))"
   ]
  },
  {
   "cell_type": "code",
   "execution_count": null,
   "metadata": {
    "colab": {
     "base_uri": "https://localhost:8080/",
     "height": 363
    },
    "id": "T86DaxSwN5pN",
    "outputId": "15945919-4ddc-48cf-f33c-de8000dc99a8"
   },
   "outputs": [],
   "source": [
    "elite_df = user_df2[['user_id', 'elite']]\n",
    "elite_df = (elite_df.assign(elite=elite_df['elite'].str.split(','))\n",
    "       .explode('elite', ignore_index=True))\n",
    "elite_df[\"ID\"] = range(len(elite_df))\n",
    "elite_df.head(10)"
   ]
  },
  {
   "cell_type": "markdown",
   "metadata": {
    "id": "U4nBCp5Dkj7J"
   },
   "source": [
    "***User Table***\n",
    "\n",
    "Description "
   ]
  },
  {
   "cell_type": "code",
   "execution_count": null,
   "metadata": {
    "id": "F2kZUzZqFQ8a"
   },
   "outputs": [],
   "source": [
    "friends_df = user_df2[[\"user_id\", \"friends\"]]\n",
    "friends_df = (friends_df.assign(friends = friends_df[\"friends\"].str.split(\",\")).explode(\"friends\", ignore_index = True))"
   ]
  },
  {
   "cell_type": "code",
   "execution_count": null,
   "metadata": {
    "id": "jHBWq9dNHT_6"
   },
   "outputs": [],
   "source": [
    "#Too big to upload\n",
    "friends_df = friends_df[ :300000]\n",
    "friends_df[\"ID\"] = range(len(friends_df))"
   ]
  },
  {
   "cell_type": "code",
   "execution_count": null,
   "metadata": {
    "id": "BqAvsZ0QHg5X"
   },
   "outputs": [],
   "source": [
    "user_df3 = user_df2.drop(\"friends\", axis = 1)\n",
    "user_df3 = user_df3.drop(\"elite\", axis = 1)"
   ]
  },
  {
   "cell_type": "markdown",
   "metadata": {
    "id": "b0_8Y_7luO3M"
   },
   "source": [
    "Installing Packages and Creating Engine"
   ]
  },
  {
   "cell_type": "code",
   "execution_count": null,
   "metadata": {
    "id": "x3plVKGynzBw"
   },
   "outputs": [],
   "source": [
    "from sqlalchemy import create_engine\n",
    "#!pip install PyMySql\n",
    "import pymysql\n",
    "import sqlalchemy"
   ]
  },
  {
   "cell_type": "code",
   "execution_count": null,
   "metadata": {
    "id": "yZTZLUoauKMm"
   },
   "outputs": [],
   "source": [
    "username = 'B02' # Your team name\n",
    "password = 'B02password'\n",
    "host = 'testproject.mysql.database.azure.com'\n",
    "database = 'B02'  # Your team name"
   ]
  },
  {
   "cell_type": "code",
   "execution_count": null,
   "metadata": {
    "id": "37SNXlgMvsw4"
   },
   "outputs": [],
   "source": [
    "connection_string = f\"mysql+pymysql://{username}:{password}@{host}/{database}\"\n",
    "\n",
    "ssl_args = {\n",
    "    'ssl_ca': 'path_to/ca-cert.pem',\n",
    "    'ssl_cert': 'path_to/client-cert.pem',\n",
    "    'ssl_key': 'path_to/client-key.pem'\n",
    "}\n",
    "\n",
    "engine = create_engine(\n",
    "    connection_string,\n",
    "    connect_args={'ssl': ssl_args})"
   ]
  },
  {
   "cell_type": "code",
   "execution_count": null,
   "metadata": {
    "colab": {
     "base_uri": "https://localhost:8080/"
    },
    "id": "bhNHDR4--_7J",
    "outputId": "c5781dd5-7ba8-4238-c0f7-6a72a51528fc"
   },
   "outputs": [],
   "source": [
    "#User\n",
    "#user_df3.to_sql(name = \"user\", con = engine, if_exists='replace', index=True, chunksize=10000)"
   ]
  },
  {
   "cell_type": "code",
   "execution_count": null,
   "metadata": {
    "colab": {
     "base_uri": "https://localhost:8080/"
    },
    "id": "v5KnmNSKE7Ke",
    "outputId": "552e6e5c-0c7b-4f6a-d400-a575b7766083"
   },
   "outputs": [],
   "source": [
    "#Friends\n",
    "#friends_df.to_sql(name = \"friend\", con = engine, if_exists='replace', index=True, chunksize=10000)"
   ]
  },
  {
   "cell_type": "code",
   "execution_count": null,
   "metadata": {
    "colab": {
     "base_uri": "https://localhost:8080/"
    },
    "id": "36-HqDtV_Gzk",
    "outputId": "a2e010dd-b9ab-49e3-c654-8609af79ab16"
   },
   "outputs": [],
   "source": [
    "#Checkin\n",
    "#checkin_df.to_sql(name = \"checkin\", con = engine, if_exists='replace', index=True, chunksize=20000)"
   ]
  },
  {
   "cell_type": "code",
   "execution_count": null,
   "metadata": {
    "colab": {
     "base_uri": "https://localhost:8080/"
    },
    "id": "9oXH8j2N_M5h",
    "outputId": "ecf8d726-1597-4c1f-be36-2d83d4be38e4"
   },
   "outputs": [],
   "source": [
    "#Business\n",
    "#business_df.to_sql(name = \"business\", con = engine, if_exists='replace', index=True, chunksize=10000)"
   ]
  },
  {
   "cell_type": "code",
   "execution_count": null,
   "metadata": {
    "colab": {
     "base_uri": "https://localhost:8080/"
    },
    "id": "UeGKqh-7_P0F",
    "outputId": "ea85ee65-18d7-4538-d553-9048889b56d8"
   },
   "outputs": [],
   "source": [
    "#Tip\n",
    "#tip_df.to_sql(name = \"tip\", con = engine, if_exists='replace', index=True, chunksize=10000)"
   ]
  },
  {
   "cell_type": "code",
   "execution_count": null,
   "metadata": {
    "colab": {
     "base_uri": "https://localhost:8080/"
    },
    "id": "muNzMZHc_TGZ",
    "outputId": "9e567513-9127-43f0-cd56-c2f3bfe381ed"
   },
   "outputs": [],
   "source": [
    "#Review\n",
    "#review_df.to_sql(name = \"review\", con = engine, if_exists='replace', index=True, chunksize=10000)"
   ]
  },
  {
   "cell_type": "code",
   "execution_count": null,
   "metadata": {
    "colab": {
     "base_uri": "https://localhost:8080/"
    },
    "id": "SmAzeyh8JO0G",
    "outputId": "8e1515a0-da3c-4076-aca5-388a0b236bcd"
   },
   "outputs": [],
   "source": [
    "#Hours\n",
    "#hours_df.to_sql(name = \"hours\", con = engine, if_exists='replace', index=True, chunksize=10000)"
   ]
  },
  {
   "cell_type": "code",
   "execution_count": null,
   "metadata": {
    "colab": {
     "base_uri": "https://localhost:8080/"
    },
    "id": "9t-Ql0MsLHyO",
    "outputId": "02979b07-ad79-4ce4-82f1-ea98e5846054"
   },
   "outputs": [],
   "source": [
    "#Attributes\n",
    "#att_df.to_sql(name = \"attributes\",  con = engine, if_exists='replace', index=True, chunksize=10000)"
   ]
  },
  {
   "cell_type": "code",
   "execution_count": null,
   "metadata": {
    "colab": {
     "base_uri": "https://localhost:8080/"
    },
    "id": "fb57YutPNVZF",
    "outputId": "1e57b1e5-9147-48dc-d39b-bb711d185926"
   },
   "outputs": [],
   "source": [
    "#Categories\n",
    "#category_df.to_sql(name = \"categories\",  con = engine, if_exists='replace', index=True, chunksize=10000)"
   ]
  },
  {
   "cell_type": "code",
   "execution_count": null,
   "metadata": {
    "colab": {
     "base_uri": "https://localhost:8080/"
    },
    "id": "IdqI0ITvNmey",
    "outputId": "76876349-5ef8-4e04-8b92-c74ce488cd42"
   },
   "outputs": [],
   "source": [
    "#Elite_year\n",
    "#elite_df.to_sql(name = \"elite\",  con = engine, if_exists='replace', index=True, chunksize=10000)"
   ]
  },
  {
   "cell_type": "code",
   "execution_count": null,
   "metadata": {
    "id": "q0lMQpoQR1Yb"
   },
   "outputs": [],
   "source": [
    "#!pip install mysqlclient\n",
    "#!pip install mysql-connector-python\n",
    "import mysql.connector"
   ]
  },
  {
   "cell_type": "code",
   "execution_count": null,
   "metadata": {
    "id": "VOLI9-b-Sv-T"
   },
   "outputs": [],
   "source": [
    "# Define the group/team name (e.g., \"A01\"). This can be changed to any other team name as needed.\n",
    "group_name = \"\"\n",
    "\n",
    "# Establish a connection to the database using the given group_name.\n",
    "conn = mysql.connector.connect(\n",
    "    host= ,\n",
    "    user=group_name,\n",
    "    password= ,\n",
    "    # Using the database corresponding to the group name.\n",
    "    database=group_name\n",
    ")\n",
    "\n",
    "# Create a cursor object to interact with the database.\n",
    "cursor = conn.cursor()"
   ]
  },
  {
   "cell_type": "code",
   "execution_count": null,
   "metadata": {
    "id": "nUrDAxphPzzo"
   },
   "outputs": [],
   "source": [
    "%reload_ext sql"
   ]
  },
  {
   "cell_type": "code",
   "execution_count": null,
   "metadata": {
    "id": "WXefirIRQTgb"
   },
   "outputs": [],
   "source": [
    "%sql mysql://B02:\"<Host>\""
   ]
  },
  {
   "cell_type": "code",
   "execution_count": null,
   "metadata": {
    "colab": {
     "base_uri": "https://localhost:8080/",
     "height": 138
    },
    "id": "mqpkmefeT7pP",
    "outputId": "9dc1b3db-9087-40b0-ad50-3913c4bc76f2"
   },
   "outputs": [],
   "source": [
    "%sql show databases"
   ]
  },
  {
   "cell_type": "code",
   "execution_count": null,
   "metadata": {
    "colab": {
     "base_uri": "https://localhost:8080/",
     "height": 342
    },
    "id": "uDLi6WYqUPo8",
    "outputId": "ec88c009-e6df-448e-eab0-4c4077de62a0"
   },
   "outputs": [],
   "source": [
    "%%sql\n",
    "use b02;\n",
    "show tables;"
   ]
  },
  {
   "cell_type": "markdown",
   "metadata": {
    "id": "M9PlU8C9wRDY"
   },
   "source": [
    "**Set Primary Keys**"
   ]
  },
  {
   "cell_type": "code",
   "execution_count": null,
   "metadata": {
    "colab": {
     "base_uri": "https://localhost:8080/"
    },
    "id": "xN0QNwSpwOvD",
    "outputId": "5078eb2f-c315-4bd0-b9cc-d73a56e3de82"
   },
   "outputs": [],
   "source": [
    "#Business Table\n",
    "%%sql\n",
    "USE b02;\n",
    "ALTER TABLE business\n",
    "DROP PRIMARY KEY,\n",
    "DROP COLUMN my_row_id,\n",
    "MODIFY COLUMN business_id varchar(22) NOT NULL,\n",
    "ADD PRIMARY KEY(business_id);"
   ]
  },
  {
   "cell_type": "code",
   "execution_count": null,
   "metadata": {
    "colab": {
     "base_uri": "https://localhost:8080/"
    },
    "id": "XJiz93wDwO3c",
    "outputId": "e8f26a4f-5b2c-4989-d875-3ec6fa68aec8"
   },
   "outputs": [],
   "source": [
    "#Attributes Table\n",
    "%%sql\n",
    "USE b02;\n",
    "ALTER TABLE attributes\n",
    "DROP PRIMARY KEY,\n",
    "DROP COLUMN my_row_id,\n",
    "MODIFY COLUMN ID INT(6) NOT NULL,\n",
    "ADD PRIMARY KEY(ID);"
   ]
  },
  {
   "cell_type": "code",
   "execution_count": null,
   "metadata": {
    "colab": {
     "base_uri": "https://localhost:8080/"
    },
    "id": "khysPAnzwO88",
    "outputId": "7a2fad4e-ebd6-4801-8b26-49f56cd50cb9"
   },
   "outputs": [],
   "source": [
    "#Categories Table\n",
    "%%sql\n",
    "USE b02;\n",
    "ALTER TABLE categories\n",
    "DROP PRIMARY KEY,\n",
    "DROP COLUMN my_row_id,\n",
    "MODIFY COLUMN ID INT(6) NOT NULL,\n",
    "ADD PRIMARY KEY(ID);"
   ]
  },
  {
   "cell_type": "code",
   "execution_count": null,
   "metadata": {
    "colab": {
     "base_uri": "https://localhost:8080/"
    },
    "id": "yGjGLmO6wO_s",
    "outputId": "b9c10802-446a-4bb8-eec8-0f38b7c50e57"
   },
   "outputs": [],
   "source": [
    "#checkin Table\n",
    "%%sql\n",
    "USE b02;\n",
    "ALTER TABLE checkin\n",
    "DROP PRIMARY KEY,\n",
    "DROP COLUMN my_row_id,\n",
    "MODIFY COLUMN ID INT(6) NOT NULL,\n",
    "ADD PRIMARY KEY(ID);"
   ]
  },
  {
   "cell_type": "code",
   "execution_count": null,
   "metadata": {
    "colab": {
     "base_uri": "https://localhost:8080/"
    },
    "id": "9bFwHwDMwPCw",
    "outputId": "5a662976-f48c-4335-bc5b-d558d2ff36ba"
   },
   "outputs": [],
   "source": [
    "#Elite Table\n",
    "%%sql\n",
    "USE b02;\n",
    "ALTER TABLE elite\n",
    "DROP PRIMARY KEY,\n",
    "DROP COLUMN my_row_id,\n",
    "MODIFY COLUMN ID INT(6) NOT NULL,\n",
    "ADD PRIMARY KEY(ID);"
   ]
  },
  {
   "cell_type": "code",
   "execution_count": null,
   "metadata": {
    "colab": {
     "base_uri": "https://localhost:8080/"
    },
    "id": "VXT5lGPi6jOJ",
    "outputId": "fc47047b-0823-4690-ba5f-4a4fe3ced988"
   },
   "outputs": [],
   "source": [
    "#Friend Table\n",
    "%%sql\n",
    "USE b02;\n",
    "ALTER TABLE friend\n",
    "DROP PRIMARY KEY,\n",
    "DROP COLUMN my_row_id,\n",
    "MODIFY COLUMN ID INT(6) NOT NULL,\n",
    "ADD PRIMARY KEY(ID);"
   ]
  },
  {
   "cell_type": "code",
   "execution_count": null,
   "metadata": {
    "colab": {
     "base_uri": "https://localhost:8080/"
    },
    "id": "CvLY-G0f78kl",
    "outputId": "3802e59f-210c-42f1-d7c5-8986b62718ee"
   },
   "outputs": [],
   "source": [
    "#hours Table\n",
    "%%sql\n",
    "USE b02;\n",
    "ALTER TABLE hours\n",
    "DROP PRIMARY KEY,\n",
    "DROP COLUMN my_row_id,\n",
    "MODIFY COLUMN ID INT(6) NOT NULL,\n",
    "ADD PRIMARY KEY(ID);"
   ]
  },
  {
   "cell_type": "code",
   "execution_count": null,
   "metadata": {
    "colab": {
     "base_uri": "https://localhost:8080/"
    },
    "id": "XqL3xPMW85qj",
    "outputId": "05888a34-28a7-4ac0-f5c4-b8be661141b3"
   },
   "outputs": [],
   "source": [
    "#review table\n",
    "%%sql\n",
    "\n",
    "USE b02;\n",
    "ALTER TABLE review\n",
    "DROP PRIMARY KEY,\n",
    "DROP COLUMN my_row_id,\n",
    "MODIFY COLUMN review_id VARCHAR(22) NOT NULL,\n",
    "ADD PRIMARY KEY(review_id);"
   ]
  },
  {
   "cell_type": "code",
   "execution_count": null,
   "metadata": {
    "colab": {
     "base_uri": "https://localhost:8080/"
    },
    "id": "q4mh4J7n9ex9",
    "outputId": "cc0be56c-947e-4bd0-e2ce-afb3ad9b0d82"
   },
   "outputs": [],
   "source": [
    "#Tip Table\n",
    "%%sql\n",
    "\n",
    "USE b02;\n",
    "ALTER TABLE tip\n",
    "DROP PRIMARY KEY,\n",
    "DROP COLUMN my_row_id,\n",
    "MODIFY COLUMN ID INT(6) NOT NULL,\n",
    "ADD PRIMARY KEY(ID);"
   ]
  },
  {
   "cell_type": "code",
   "execution_count": null,
   "metadata": {
    "colab": {
     "base_uri": "https://localhost:8080/"
    },
    "id": "6LvsF81r9hKY",
    "outputId": "3d3a27c3-cafb-4f62-f231-faa8bdef6991"
   },
   "outputs": [],
   "source": [
    "#User Table\n",
    "%%sql\n",
    "\n",
    "USE b02;\n",
    "ALTER TABLE user\n",
    "DROP PRIMARY KEY,\n",
    "DROP COLUMN my_row_id,\n",
    "MODIFY COLUMN user_id VARCHAR(22) NOT NULL,\n",
    "ADD PRIMARY KEY(user_id);"
   ]
  },
  {
   "cell_type": "markdown",
   "metadata": {
    "id": "kErrTWchAV9e"
   },
   "source": [
    "***Questions & Queries***"
   ]
  },
  {
   "cell_type": "markdown",
   "metadata": {
    "id": "sPStac7YSbwL"
   },
   "source": [
    "**1. Which cities have the highest number of reviews and what are their average ratings? This can be helpful to determine what location to set the businesses.**"
   ]
  },
  {
   "cell_type": "code",
   "execution_count": null,
   "metadata": {
    "colab": {
     "base_uri": "https://localhost:8080/",
     "height": 179
    },
    "id": "VbhJMpu6BY3U",
    "outputId": "533e7a3c-a35a-40b2-903c-6f1cce781832"
   },
   "outputs": [],
   "source": [
    "%%sql\n",
    "\n",
    "SELECT b.city, COUNT(r.stars) AS rating_count, AVG(r.stars) AS average_rating\n",
    "FROM business b JOIN review r ON b.business_id = r.business_id\n",
    "GROUP BY b.city\n",
    "ORDER BY rating_count DESC\n",
    "LIMIT 5;"
   ]
  },
  {
   "cell_type": "markdown",
   "metadata": {
    "id": "IP2ieCQOZehl"
   },
   "source": [
    "**2. From the previous query, we chose to observe Nashville as it has the lowest rating among cities with many ratings. What is the average rating of businesses in the city by postal code? Here we can find which area in Nashville to focus on with our business.**"
   ]
  },
  {
   "cell_type": "code",
   "execution_count": null,
   "metadata": {
    "colab": {
     "base_uri": "https://localhost:8080/",
     "height": 715
    },
    "id": "CCl75mZyk5zS",
    "outputId": "8efb58d1-5d4c-4a39-a7c3-9246470bdbf2"
   },
   "outputs": [],
   "source": [
    "%%sql\n",
    "SELECT b.postal_code, AVG(r.stars) AS average_rating\n",
    "FROM business b JOIN review r ON b.business_id = r.business_id\n",
    "WHERE b.city = 'nashville'\n",
    "GROUP BY state, postal_code;"
   ]
  },
  {
   "cell_type": "markdown",
   "metadata": {
    "id": "eZf1Hej-uTt3"
   },
   "source": [
    "**3. Identify businesses that have no reviews in Nashville, which can help businesses and their owners understand which businesses need more attention**"
   ]
  },
  {
   "cell_type": "code",
   "execution_count": null,
   "metadata": {
    "colab": {
     "base_uri": "https://localhost:8080/",
     "height": 282
    },
    "id": "IJoU3bQ1ox3H",
    "outputId": "77f3b237-578f-4108-a396-0ab25503b88f"
   },
   "outputs": [],
   "source": [
    "%%sql\n",
    "SELECT b.name AS business_name\n",
    "FROM business b\n",
    "LEFT JOIN review r ON b.business_id = r.business_id\n",
    "WHERE r.review_id IS NULL AND b.city = 'nashville'\n",
    "LIMIT 10;"
   ]
  },
  {
   "cell_type": "markdown",
   "metadata": {
    "id": "cUDC2ftWCZrs"
   },
   "source": [
    "**4. Find users with a low average star rating that are usually more critical.***"
   ]
  },
  {
   "cell_type": "code",
   "execution_count": null,
   "metadata": {
    "colab": {
     "base_uri": "https://localhost:8080/",
     "height": 282
    },
    "id": "whOWQs48CaXw",
    "outputId": "059915db-df81-4dd4-fe58-3e726934eb74"
   },
   "outputs": [],
   "source": [
    "%%sql\n",
    "\n",
    "SELECT u.user_id, u.name, AVG(r.stars) AS user_rating, COUNT(r.review_id) AS rating_count\n",
    "FROM review AS r\n",
    "JOIN user AS u ON r.user_id = u.user_id\n",
    "GROUP BY u.user_id\n",
    "ORDER BY user_rating DESC\n",
    "LIMIT 10;"
   ]
  },
  {
   "cell_type": "markdown",
   "metadata": {
    "id": "8FdBI7ZyCywd"
   },
   "source": [
    "**5. This query will help find businesses with the most diverse set of reviewers in different categories. This can help businesses look at individual sentiment to get a more accurate understanding with what is going well and not so well with the public.**"
   ]
  },
  {
   "cell_type": "code",
   "execution_count": null,
   "metadata": {
    "colab": {
     "base_uri": "https://localhost:8080/",
     "height": 282
    },
    "id": "tvuCYAHRBRgq",
    "outputId": "4480187d-9c62-4be7-e5a1-5a5366fc56f1"
   },
   "outputs": [],
   "source": [
    "%%sql\n",
    "\n",
    "SELECT b.name AS business_name, COUNT(r.review_id) AS review_count, COUNT(DISTINCT u.name) AS unique_reviewers\n",
    "FROM business AS b\n",
    "JOIN review AS r ON b.business_id = r.business_id\n",
    "JOIN user AS u ON r.user_id = u.user_id\n",
    "JOIN categories AS c ON b.business_id = c.ID\n",
    "GROUP BY business_name\n",
    "HAVING unique_reviewers > 5\n",
    "ORDER BY review_count DESC\n",
    "LIMIT 10;\n"
   ]
  },
  {
   "cell_type": "markdown",
   "metadata": {
    "id": "nxTw1ZXjECAx"
   },
   "source": [
    "**6. Find business areas with a high number of reviews, most active areas that business may choose to avoid if expanding or want to be bold and gain the attention of critics.**"
   ]
  },
  {
   "cell_type": "code",
   "execution_count": null,
   "metadata": {
    "colab": {
     "base_uri": "https://localhost:8080/",
     "height": 282
    },
    "id": "QP35DWfeECNc",
    "outputId": "9cca0559-3060-4917-fd88-f8d8e0ecf4c4"
   },
   "outputs": [],
   "source": [
    "%%sql\n",
    "\n",
    "SELECT b.postal_code AS business_location, COUNT(r.review_id) AS review_count\n",
    "FROM business AS b\n",
    "JOIN review AS r ON b.business_id = r.business_id\n",
    "GROUP BY business_location\n",
    "ORDER BY review_count DESC\n",
    "LIMIT 10;"
   ]
  },
  {
   "cell_type": "markdown",
   "metadata": {
    "id": "ETrScpt8VUzO"
   },
   "source": [
    "***7. This will help find reliable top reviewers who are maybe bloggers by professions and may have a lot of followers which might help us in advertising our business.***"
   ]
  },
  {
   "cell_type": "code",
   "execution_count": null,
   "metadata": {
    "colab": {
     "base_uri": "https://localhost:8080/",
     "height": 282
    },
    "id": "iB1zi-xHUzbB",
    "outputId": "d32681c0-d7f4-4f10-e5bf-2484a36c3372"
   },
   "outputs": [],
   "source": [
    "%%sql\n",
    "SELECT u.name AS reviewer_name, u.review_count, u.useful\n",
    "FROM user u\n",
    "ORDER BY u.review_count DESC,u.useful DESC\n",
    "LIMIT 10;"
   ]
  },
  {
   "cell_type": "markdown",
   "metadata": {
    "id": "Y3mPh-Y8YH0u"
   },
   "source": [
    "**8. What is the number by business categories in Nashville? This can be helpful to observe what type of business should be chosen.**"
   ]
  },
  {
   "cell_type": "code",
   "execution_count": null,
   "metadata": {
    "colab": {
     "base_uri": "https://localhost:8080/",
     "height": 282
    },
    "id": "0nn7MRaOWN_Z",
    "outputId": "bfe48eab-7639-4b59-bf5c-c2743a5a70f3"
   },
   "outputs": [],
   "source": [
    "%%sql\n",
    "SELECT c.categories, COUNT(*) AS categories_count\n",
    "FROM business AS b JOIN categories AS c ON b.business_id = c.business_id\n",
    "WHERE b.city = \"nashville\"\n",
    "GROUP BY c.categories\n",
    "ORDER BY categories_count DESC\n",
    "LIMIT 10;"
   ]
  },
  {
   "cell_type": "markdown",
   "metadata": {
    "id": "__YjHPp0Yhtt"
   },
   "source": [
    "**9. Among businesses in Nashville, how many of them open for the weekend and how many of them do not? This will used to determine whether it is effective to operate business during the weekend or not.**"
   ]
  },
  {
   "cell_type": "code",
   "execution_count": null,
   "metadata": {
    "colab": {
     "base_uri": "https://localhost:8080/",
     "height": 97
    },
    "id": "1OotGbAEZAn3",
    "outputId": "12c85819-c456-426f-f0a2-5fe851daa5ea"
   },
   "outputs": [],
   "source": [
    "%%sql\n",
    "SELECT COUNT(*)\n",
    "FROM business b JOIN hours h ON b.business_id = h.business_id\n",
    "WHERE b.city = \"nashville\" AND\n",
    "Sunday IS NULL AND Saturday IS NULL"
   ]
  },
  {
   "cell_type": "code",
   "execution_count": null,
   "metadata": {
    "colab": {
     "base_uri": "https://localhost:8080/",
     "height": 97
    },
    "id": "dbEyc3bRZngb",
    "outputId": "5e562050-a576-4233-969a-23952d5c7e79"
   },
   "outputs": [],
   "source": [
    "%%sql\n",
    "SELECT COUNT(*)\n",
    "FROM business b JOIN hours h ON b.business_id = h.business_id\n",
    "WHERE b.city = \"nashville\" AND\n",
    "Sunday IS NOT NULL AND Saturday IS NOT NULL"
   ]
  },
  {
   "cell_type": "markdown",
   "metadata": {
    "id": "qITdt_qBaNZX"
   },
   "source": [
    "**10. This query finds the restaurants that had the worst opinion of the most \"cool\" users which is a trait for being fair. Businesses can take a look at how these restaurants managed to dissatisfy these people and avoid those traits.**"
   ]
  },
  {
   "cell_type": "code",
   "execution_count": null,
   "metadata": {
    "colab": {
     "base_uri": "https://localhost:8080/",
     "height": 282
    },
    "id": "10qKPTXhYhHz",
    "outputId": "eb0747a7-01e8-43ce-d0f8-04e4c1781656"
   },
   "outputs": [],
   "source": [
    "%%sql\n",
    "SELECT b.name, r.stars AS user_rating, u.cool AS user_coolness\n",
    "FROM review AS r JOIN business AS b ON r.business_id = b.business_id\n",
    "JOIN user AS u ON r.user_id = u.user_id\n",
    "WHERE u.cool > 5\n",
    "AND r.stars < 2\n",
    "AND b.city = \"nashville\"\n",
    "ORDER BY user_coolness DESC\n",
    "LIMIT 10;"
   ]
  }
 ],
 "metadata": {
  "colab": {
   "provenance": []
  },
  "kernelspec": {
   "display_name": "Python 3",
   "language": "python",
   "name": "python3"
  },
  "language_info": {
   "codemirror_mode": {
    "name": "ipython",
    "version": 3
   },
   "file_extension": ".py",
   "mimetype": "text/x-python",
   "name": "python",
   "nbconvert_exporter": "python",
   "pygments_lexer": "ipython3",
   "version": "3.8.3"
  }
 },
 "nbformat": 4,
 "nbformat_minor": 1
}
